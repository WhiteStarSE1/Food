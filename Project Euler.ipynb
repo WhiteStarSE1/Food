{
 "cells": [
  {
   "cell_type": "markdown",
   "metadata": {},
   "source": [
    "# GENERIC CODE\n",
    "# Prime Generator"
   ]
  },
  {
   "cell_type": "code",
   "execution_count": null,
   "metadata": {},
   "outputs": [],
   "source": [
    "limit = 10**6\n",
    "fname = 'primes.csv'\n",
    "\n",
    "import os.path\n",
    "if os.path.isfile(fname):\n",
    "    file = open(fname, 'r')\n",
    "    buffer = file.read()\n",
    "    if len(buffer) > 0:\n",
    "        primes = list(map(int,buffer.split(',')))\n",
    "    else:\n",
    "        primes = [2,3]    \n",
    "    file.close()\n",
    "\n",
    "\n",
    "    \n",
    "if len(primes) > 0:\n",
    "    primecandidates = primes[0:-1] + list(range(primes[-1]+2,limit+1,2))\n",
    "else:\n",
    "    primecandidates = list(range(2,limit+1))\n",
    "primes = []\n",
    "\n",
    "while len(primecandidates) > 0:\n",
    "    #old code. too slow\n",
    "    #primecandidates = [i for i in primecandidates if i not in set(range(primecandidates[0]*2,limit+1,primecandidates[0]))]\n",
    "    #primes.append(primecandidates.pop(0)) \n",
    "    \n",
    "    #hoping this is faster\n",
    "    #primes.append(primecandidates.pop(0))\n",
    "    #primecandidates = [i for i in primecandidates if i%primes[-1] != 0]\n",
    "    \n",
    "    primes.append(primecandidates.pop(0))\n",
    "    nonprimes = list(range(primes[-1]*2,target+1,primes[-1]))     \n",
    "    primecandidates = [x for x in primecandidates if x not in nonprimes]\n",
    " \n",
    "file = open(fname, 'w')\n",
    "file.write(','.join(map(str,primes)))\n",
    "file.close()\n",
    "\n",
    "print(f'{len(primes)} Prime Numbers Loaded.')\n",
    "print(f'Highest prime loaded {primes[-1]}')\n",
    "\n",
    "def isprime(num):\n",
    "    return num in primes \n",
    "\n",
    "def isnotprime(num):\n",
    "    return num not in primess  "
   ]
  },
  {
   "cell_type": "code",
   "execution_count": 26,
   "metadata": {},
   "outputs": [
    {
     "name": "stdout",
     "output_type": "stream",
     "text": [
      "183211 Prime Numbers Loaded.\n",
      "Highest prime loaded 2502133\n"
     ]
    }
   ],
   "source": [
    "#mnual save on an interrupt\n",
    "file = open(fname, 'w')\n",
    "file.write(','.join(map(str,primes)))\n",
    "file.close()\n",
    "\n",
    "print(f'{len(primes)} Prime Numbers Loaded.')\n",
    "print(f'Highest prime loaded {primes[-1]}')"
   ]
  },
  {
   "cell_type": "markdown",
   "metadata": {},
   "source": [
    "## Num_to_List (and List_to_Num)"
   ]
  },
  {
   "cell_type": "code",
   "execution_count": null,
   "metadata": {},
   "outputs": [],
   "source": [
    "def num_to_list(num):\n",
    "    return [int(letter) for letter in str(num)]\n",
    "\n",
    "def list_to_num(listinput):\n",
    "    return int(''.join(map(str,listinput)))\n",
    "\n",
    "#read the question stupid... not needed\n",
    "#generates all permutations of a list\n",
    "def permutations(inputlist): \n",
    "    output = []\n",
    "    for i in inputlist:\n",
    "        if len(inputlist) == 1:\n",
    "            return [[i]]\n",
    "        else:                            \n",
    "            output = output + list([[i] + j for j in permutations(list(inputlist[0:inputlist.index(i)] + inputlist[inputlist.index(i)+1:]))])         \n",
    "    return output\n",
    "\n",
    "#read the question stupid... not needed\n",
    "#generates all permutations of digits in an integer\n",
    "def num_perm(num): \n",
    "    return list(set(list(map(list_to_num,permutations(num_to_list(num))))))\n",
    "\n",
    "#generates all rotations of digits in an integer\n",
    "def num_rotates(num):\n",
    "    output = []\n",
    "    for i in range(0,len(str(num))):\n",
    "        output.append(int(str(num)[i:]+str(num)[:i]))\n",
    "    return output"
   ]
  },
  {
   "cell_type": "markdown",
   "metadata": {},
   "source": [
    "# Multiples of 3 and 5\n",
    "## Problem 1 \n",
    "If we list all the natural numbers below 10 that are multiples of 3 or 5, we get 3, 5, 6 and 9. The sum of these multiples is 23.\n",
    "\n",
    "Find the sum of all the multiples of 3 or 5 below 1000."
   ]
  },
  {
   "cell_type": "code",
   "execution_count": 1,
   "metadata": {},
   "outputs": [],
   "source": [
    "threes = set(range(3,1000,3))"
   ]
  },
  {
   "cell_type": "code",
   "execution_count": 3,
   "metadata": {},
   "outputs": [],
   "source": [
    "fives = set(range(5,1000,5))"
   ]
  },
  {
   "cell_type": "code",
   "execution_count": 6,
   "metadata": {},
   "outputs": [
    {
     "data": {
      "text/plain": [
       "233168"
      ]
     },
     "execution_count": 6,
     "metadata": {},
     "output_type": "execute_result"
    }
   ],
   "source": [
    "sum(threes | fives)"
   ]
  },
  {
   "cell_type": "markdown",
   "metadata": {},
   "source": [
    "# Even Fibonacci numbers\n",
    "## Problem 2 \n",
    "Each new term in the Fibonacci sequence is generated by adding the previous two terms. By starting with 1 and 2, the first 10 terms will be:\n",
    "\n",
    "1, 2, 3, 5, 8, 13, 21, 34, 55, 89, ...\n",
    "\n",
    "By considering the terms in the Fibonacci sequence whose values do not exceed four million, find the sum of the even-valued terms."
   ]
  },
  {
   "cell_type": "code",
   "execution_count": 26,
   "metadata": {},
   "outputs": [
    {
     "name": "stdout",
     "output_type": "stream",
     "text": [
      "Sum of even fibonacci numbers below 4million: 4613732\n"
     ]
    }
   ],
   "source": [
    "fibonacci = [1,2]\n",
    "while fibonacci[-2]+fibonacci[-1] < 4 * 10 ** 6:\n",
    "    fibonacci.append(fibonacci[-2]+fibonacci[-1])\n",
    "    \n",
    "fibonacci_even = [f for f in fibonacci if f%2 == 0]\n",
    "fibonacci_odd = [f for f in fibonacci if f%2 != 0] \n",
    "\n",
    "#print(fibonacci)\n",
    "#print(fibonacci_even)\n",
    "#print(fibonacci_odd)\n",
    "print('Sum of even fibonacci numbers below 4million: {}'.format(sum(fibonacci_even)))"
   ]
  },
  {
   "cell_type": "markdown",
   "metadata": {},
   "source": [
    "# Largest prime factor\n",
    "## Problem 3 \n",
    "The prime factors of 13195 are 5, 7, 13 and 29.\n",
    "\n",
    "What is the largest prime factor of the number 600851475143 ?"
   ]
  },
  {
   "cell_type": "code",
   "execution_count": 76,
   "metadata": {},
   "outputs": [
    {
     "name": "stdout",
     "output_type": "stream",
     "text": [
      "Factorisation : 71x839x1471x6857\n",
      "Largest prime factor: 6857\n"
     ]
    }
   ],
   "source": [
    "number = 600851475143   #WARNING THIS IS TOO SLOW\n",
    "#number = 100000\n",
    "\n",
    "#seedprimes\n",
    "primes = [2]\n",
    "primefactors = []\n",
    "\n",
    "#Generate Prime Numbers\n",
    "tentative_primes = list(range(3,int(number ** 0.5 + 1),2))\n",
    "while len(tentative_primes) > 0:\n",
    "    for prime in primes:\n",
    "        if tentative_primes[0]%prime == 0:\n",
    "            #not prime\n",
    "            tentative_primes.pop(0)\n",
    "            break\n",
    "        if prime == primes[-1]:\n",
    "            #is prime\n",
    "            primes.append(tentative_primes.pop(0))\n",
    "            break\n",
    "            \n",
    "#Prime factorisation\n",
    "working = number\n",
    "while len(primes) > 0:\n",
    "    if working%primes[0] == 0:\n",
    "        working = working/primes[0]\n",
    "        primefactors.append(primes[0])\n",
    "    else:\n",
    "        primes.pop(0)\n",
    "        \n",
    "\n",
    "print('Factorisation : {}'.format('x'.join(map(str,primefactors))))\n",
    "print('Largest prime factor: {}'.format(primefactors[-1]))"
   ]
  },
  {
   "cell_type": "markdown",
   "metadata": {},
   "source": [
    "# Largest palindrome product\n",
    "## Problem 4 \n",
    "A palindromic number reads the same both ways. The largest palindrome made from the product of two 2-digit numbers is 9009 = 91 × 99.\n",
    "\n",
    "Find the largest palindrome made from the product of two 3-digit numbers."
   ]
  },
  {
   "cell_type": "code",
   "execution_count": 116,
   "metadata": {},
   "outputs": [
    {
     "name": "stdout",
     "output_type": "stream",
     "text": [
      "Largest palindrome: 906609 (993x913)\n"
     ]
    }
   ],
   "source": [
    "threedigits = list(range(100,1000,1))\n",
    "palindromes = {}\n",
    "\n",
    "\n",
    "for n1 in threedigits:\n",
    "    for n2 in threedigits:\n",
    "        candidate = str(n1 * n2)\n",
    "        while candidate[0] == candidate[-1]:\n",
    "            candidate = candidate[1:-1]\n",
    "            if len(candidate) <= 1:\n",
    "                break\n",
    "                \n",
    "            \n",
    "        if len(candidate) <= 1:\n",
    "            palindromes.update({n1 * n2:(n1,n2)}) \n",
    "    \n",
    "print('Largest palindrome: {} ({}x{})'.format(max(palindromes.keys()),palindromes[max(palindromes.keys())][0],palindromes[max(palindromes.keys())][1]))"
   ]
  },
  {
   "cell_type": "markdown",
   "metadata": {},
   "source": [
    "# Smallest multiple\n",
    "## Problem 5 \n",
    "2520 is the smallest number that can be divided by each of the numbers from 1 to 10 without any remainder.\n",
    "\n",
    "What is the smallest positive number that is evenly divisible by all of the numbers from 1 to 20?"
   ]
  },
  {
   "cell_type": "code",
   "execution_count": 152,
   "metadata": {},
   "outputs": [
    {
     "name": "stdout",
     "output_type": "stream",
     "text": [
      "2 4\n",
      "3 2\n",
      "5 1\n",
      "7 1\n",
      "11 1\n",
      "13 1\n",
      "17 1\n",
      "19 1\n",
      "Smallest number: 232792560\n",
      "\n",
      "\n",
      "232792560 divided by 1 is 232792560.0\n",
      "232792560 divided by 2 is 116396280.0\n",
      "232792560 divided by 3 is 77597520.0\n",
      "232792560 divided by 4 is 58198140.0\n",
      "232792560 divided by 5 is 46558512.0\n",
      "232792560 divided by 6 is 38798760.0\n",
      "232792560 divided by 7 is 33256080.0\n",
      "232792560 divided by 8 is 29099070.0\n",
      "232792560 divided by 9 is 25865840.0\n",
      "232792560 divided by 10 is 23279256.0\n",
      "232792560 divided by 11 is 21162960.0\n",
      "232792560 divided by 12 is 19399380.0\n",
      "232792560 divided by 13 is 17907120.0\n",
      "232792560 divided by 14 is 16628040.0\n",
      "232792560 divided by 15 is 15519504.0\n",
      "232792560 divided by 16 is 14549535.0\n",
      "232792560 divided by 17 is 13693680.0\n",
      "232792560 divided by 18 is 12932920.0\n",
      "232792560 divided by 19 is 12252240.0\n",
      "232792560 divided by 20 is 11639628.0\n"
     ]
    }
   ],
   "source": [
    "#seedprimes\n",
    "primes = [2]\n",
    "\n",
    "#Generate Prime Numbers\n",
    "tentative_primes = list(range(3,21,2))\n",
    "while len(tentative_primes) > 0:\n",
    "    for prime in primes:\n",
    "        if tentative_primes[0]%prime == 0:\n",
    "            #not prime\n",
    "            tentative_primes.pop(0)\n",
    "            break\n",
    "        if prime == primes[-1]:\n",
    "            #is prime\n",
    "            primes.append(tentative_primes.pop(0))\n",
    "            break\n",
    "            \n",
    "output = 1\n",
    "for prime in primes:\n",
    "    power = 1\n",
    "    while prime ** (power + 1) <= 20:\n",
    "        power += 1\n",
    "    output = output * (prime ** power)\n",
    "    print('{} {}'.format(prime,power))\n",
    "    \n",
    "print('Smallest number: {}'.format(output))\n",
    "\n",
    "print('\\n')\n",
    "for divisor in range(1,21):\n",
    "    print(f'{output} divided by {divisor} is {output/divisor}')"
   ]
  },
  {
   "cell_type": "markdown",
   "metadata": {},
   "source": [
    "# Sum square difference\n",
    "## Problem 6 \n",
    "The sum of the squares of the first ten natural numbers is,\n",
    "\n",
    "12 + 22 + ... + 102 = 385\n",
    "The square of the sum of the first ten natural numbers is,\n",
    "\n",
    "(1 + 2 + ... + 10)2 = 552 = 3025\n",
    "Hence the difference between the sum of the squares of the first ten natural numbers and the square of the sum is 3025 − 385 = 2640.\n",
    "\n",
    "Find the difference between the sum of the squares of the first one hundred natural numbers and the square of the sum."
   ]
  },
  {
   "cell_type": "code",
   "execution_count": 169,
   "metadata": {},
   "outputs": [
    {
     "name": "stdout",
     "output_type": "stream",
     "text": [
      "338350\n",
      "25502500\n",
      "25164150\n"
     ]
    }
   ],
   "source": [
    "n = 100\n",
    "sumofsquares = sum(num ** 2 for num in range(1,n+1))\n",
    "print(sumofsquares)\n",
    "\n",
    "squareofsum = sum(num for num in range(1,n+1))**2\n",
    "print(squareofsum)\n",
    "\n",
    "print(squareofsum - sumofsquares)"
   ]
  },
  {
   "cell_type": "markdown",
   "metadata": {},
   "source": [
    "# 10001st prime\n",
    "## Problem 7 \n",
    "By listing the first six prime numbers: 2, 3, 5, 7, 11, and 13, we can see that the 6th prime is 13.\n",
    "\n",
    "What is the 10001st prime number?"
   ]
  },
  {
   "cell_type": "code",
   "execution_count": 170,
   "metadata": {},
   "outputs": [],
   "source": [
    "primes = [2]\n"
   ]
  },
  {
   "cell_type": "code",
   "execution_count": 194,
   "metadata": {},
   "outputs": [
    {
     "name": "stdout",
     "output_type": "stream",
     "text": [
      "Prime no. 10001 is 104743\n"
     ]
    }
   ],
   "source": [
    "target = 10001\n",
    "\n",
    "#Generate Prime Numbers\n",
    "tentative_prime = primes[-1] + 1\n",
    "while len(primes) + 1 <= target:\n",
    "    \n",
    "    for prime in primes:\n",
    "        if tentative_prime%prime == 0:\n",
    "            #not prime\n",
    "            tentative_prime += 1\n",
    "            break\n",
    "        if prime == primes[-1]:\n",
    "            #is prime\n",
    "            primes.append(tentative_prime)\n",
    "            primefound = True\n",
    "            break\n",
    "\n",
    "print('Prime no. {} is {}'.format(target,primes[target - 1]))\n"
   ]
  },
  {
   "cell_type": "markdown",
   "metadata": {},
   "source": [
    "# Largest product in a series\n",
    "## Problem 8 \n",
    "The four adjacent digits in the 1000-digit number that have the greatest product are 9 × 9 × 8 × 9 = 5832.\n",
    "\n",
    "73167176531330624919225119674426574742355349194934\n",
    "96983520312774506326239578318016984801869478851843\n",
    "85861560789112949495459501737958331952853208805511\n",
    "12540698747158523863050715693290963295227443043557\n",
    "66896648950445244523161731856403098711121722383113\n",
    "62229893423380308135336276614282806444486645238749\n",
    "30358907296290491560440772390713810515859307960866\n",
    "70172427121883998797908792274921901699720888093776\n",
    "65727333001053367881220235421809751254540594752243\n",
    "52584907711670556013604839586446706324415722155397\n",
    "53697817977846174064955149290862569321978468622482\n",
    "83972241375657056057490261407972968652414535100474\n",
    "82166370484403199890008895243450658541227588666881\n",
    "16427171479924442928230863465674813919123162824586\n",
    "17866458359124566529476545682848912883142607690042\n",
    "24219022671055626321111109370544217506941658960408\n",
    "07198403850962455444362981230987879927244284909188\n",
    "84580156166097919133875499200524063689912560717606\n",
    "05886116467109405077541002256983155200055935729725\n",
    "71636269561882670428252483600823257530420752963450\n",
    "\n",
    "Find the thirteen adjacent digits in the 1000-digit number that have the greatest product. What is the value of this product?"
   ]
  },
  {
   "cell_type": "code",
   "execution_count": 262,
   "metadata": {
    "scrolled": false
   },
   "outputs": [
    {
     "name": "stdout",
     "output_type": "stream",
     "text": [
      "Highest adjacent value product of width 13 is 23514624000\n",
      "First found at poition 197 with:\n",
      "5576689664895\n"
     ]
    }
   ],
   "source": [
    "#Number\n",
    "numberstr  = '73167176531330624919225119674426574742355349194934'\n",
    "numberstr += '96983520312774506326239578318016984801869478851843'\n",
    "numberstr += '85861560789112949495459501737958331952853208805511'\n",
    "numberstr += '12540698747158523863050715693290963295227443043557'\n",
    "numberstr += '66896648950445244523161731856403098711121722383113'\n",
    "numberstr += '62229893423380308135336276614282806444486645238749'\n",
    "numberstr += '30358907296290491560440772390713810515859307960866'\n",
    "numberstr += '70172427121883998797908792274921901699720888093776'\n",
    "numberstr += '65727333001053367881220235421809751254540594752243'\n",
    "numberstr += '52584907711670556013604839586446706324415722155397'\n",
    "numberstr += '53697817977846174064955149290862569321978468622482'\n",
    "numberstr += '83972241375657056057490261407972968652414535100474'\n",
    "numberstr += '82166370484403199890008895243450658541227588666881'\n",
    "numberstr += '16427171479924442928230863465674813919123162824586'\n",
    "numberstr += '17866458359124566529476545682848912883142607690042'\n",
    "numberstr += '24219022671055626321111109370544217506941658960408'\n",
    "numberstr += '07198403850962455444362981230987879927244284909188'\n",
    "numberstr += '84580156166097919133875499200524063689912560717606'\n",
    "numberstr += '05886116467109405077541002256983155200055935729725'\n",
    "numberstr += '71636269561882670428252483600823257530420752963450'\n",
    "\n",
    "width = 13\n",
    "\n",
    "adjacent = {}\n",
    "for i in range(0,len(numberstr) - width): #)\n",
    "    calcbuffer = 1\n",
    "    for j in range(0, width):\n",
    "        calcbuffer = calcbuffer * int(numberstr[i + j])  \n",
    "        #print(int(numberstr[i + j])) \n",
    "    \n",
    "    adjacent.update({i:calcbuffer})\n",
    "    #print(calcbuffer)\n",
    "    #print()\n",
    "    \n",
    "#print(adjacent)\n",
    "print('Highest adjacent value product of width {} is {}'.format(width,max(adjacent.values())))\n",
    "print('First found at poition {} with:'.format([k for k,v in adjacent.items() if v == max(adjacent.values())][0]))\n",
    "print(numberstr[[k for k,v in adjacent.items() if v == max(adjacent.values())][0]:[k for k,v in adjacent.items() if v == max(adjacent.values())][0]+width])"
   ]
  },
  {
   "cell_type": "markdown",
   "metadata": {},
   "source": [
    "# Special Pythagorean triplet\n",
    "## Problem 9 \n",
    "A Pythagorean triplet is a set of three natural numbers, a < b < c, for which,\n",
    "\n",
    "a2 + b2 = c2\n",
    "For example, 32 + 42 = 9 + 16 = 25 = 52.\n",
    "\n",
    "There exists exactly one Pythagorean triplet for which a + b + c = 1000.\n",
    "Find the product abc."
   ]
  },
  {
   "cell_type": "code",
   "execution_count": 319,
   "metadata": {},
   "outputs": [
    {
     "name": "stdout",
     "output_type": "stream",
     "text": [
      "a=200, b=375, c=425, a+b+c=1000, abc=31875000\n"
     ]
    }
   ],
   "source": [
    "length = 1000\n",
    "triplet = []\n",
    "\n",
    "for c in range(length,1,-1):\n",
    "    if a**2 + b**2 == c**2:\n",
    "        break\n",
    "    else:    \n",
    "        for b in range(min(length-c,c-1),1,-1):\n",
    "            a = length - c - b\n",
    "            if a > b:\n",
    "                break\n",
    "            if a**2 + b**2 == c**2:\n",
    "                triplet.append((a,b,c,length, a*b*c))\n",
    "                break\n",
    "            else:\n",
    "                continue\n",
    "                \n",
    "print('a={}, b={}, c={}, a+b+c={}, abc={}'.format(triplet[0][0],triplet[0][1],triplet[0][2],triplet[0][3],triplet[0][4]))"
   ]
  },
  {
   "cell_type": "markdown",
   "metadata": {},
   "source": [
    "# Summation of primes\n",
    "## Problem 10 \n",
    "The sum of the primes below 10 is 2 + 3 + 5 + 7 = 17.\n",
    "\n",
    "Find the sum of all the primes below two million."
   ]
  },
  {
   "cell_type": "code",
   "execution_count": 329,
   "metadata": {},
   "outputs": [],
   "source": [
    "primes = [2,3]"
   ]
  },
  {
   "cell_type": "code",
   "execution_count": null,
   "metadata": {},
   "outputs": [],
   "source": [
    "#loadprimes - DO THIS IF YOU DO NOT HAVE TWO HOURS\n",
    "outputfile = open('C:\\\\Users\\\\alexp\\\\primes.csv','r')\n",
    "primes = outputfile.read()\n",
    "primes = list(map(int,newprimes.split(',')))\n",
    "outputfile.close()"
   ]
  },
  {
   "cell_type": "code",
   "execution_count": 374,
   "metadata": {},
   "outputs": [
    {
     "name": "stdout",
     "output_type": "stream",
     "text": [
      "There are 148933 primes below 2000000. The largest prime is 1999993. The sum of these primes is 142913828922\n"
     ]
    }
   ],
   "source": [
    "target = 2 * 10 ** 6\n",
    "\n",
    "#Generate Prime Numbers\n",
    "tentative_prime = primes[-1] + 2\n",
    "while tentative_prime <= target:\n",
    "    \n",
    "    for prime in primes:\n",
    "        if tentative_prime%prime == 0:\n",
    "            #not prime\n",
    "            tentative_prime += 2\n",
    "            break\n",
    "        if prime == primes[-1]:\n",
    "            #is prime\n",
    "            primes.append(tentative_prime)\n",
    "            primefound = True\n",
    "            break\n",
    "\n",
    "print('There are {} primes below {}. The largest prime is {}. The sum of these primes is {}'.format(len(primes),target,primes[-1],sum(primes)))"
   ]
  },
  {
   "cell_type": "code",
   "execution_count": 400,
   "metadata": {},
   "outputs": [],
   "source": [
    "#save primes\n",
    "outputfile = open('C:\\\\Users\\\\alexp\\\\primes.csv','w')\n",
    "outputfile.write(','.join(map(str,primes)))\n",
    "outputfile.close()"
   ]
  },
  {
   "cell_type": "markdown",
   "metadata": {},
   "source": [
    "Alternate prime generation test - Sieve of Eratosthenes\n",
    "https://en.wikipedia.org/wiki/Sieve_of_Eratosthenes"
   ]
  },
  {
   "cell_type": "code",
   "execution_count": 68,
   "metadata": {},
   "outputs": [],
   "source": [
    "target =100000\n",
    "primecandidates = [2] + list(range(3,target+1,2))\n",
    "n=1\n",
    "#print(primecandidates)\n",
    "while n < target and n < len(primecandidates):\n",
    "    nonprimes = list(range(primecandidates[n]*2,target+1,primecandidates[n])) #list(range(primecandidates(n)*2,target+1,primecandidates(n)))\n",
    "    \n",
    "    #primecandidates = list(set(primecandidates) - set(nonprimes))\n",
    "    #sets are unordered. This was causing problems on the first attempt\n",
    "    \n",
    "    primecandidates = [x for x in primecandidates if x not in nonprimes]\n",
    "    #print(primecandidates)\n",
    "    n += 1\n",
    "\n"
   ]
  },
  {
   "cell_type": "markdown",
   "metadata": {},
   "source": [
    "# Largest product in a grid\n",
    "## Problem 11 \n",
    "In the 20×20 grid below, four numbers along a diagonal line have been marked in red.\n",
    "\n",
    "08 02 22 97 38 15 00 40 00 75 04 05 07 78 52 12 50 77 91 08\n",
    "49 49 99 40 17 81 18 57 60 87 17 40 98 43 69 48 04 56 62 00\n",
    "81 49 31 73 55 79 14 29 93 71 40 67 53 88 30 03 49 13 36 65\n",
    "52 70 95 23 04 60 11 42 69 24 68 56 01 32 56 71 37 02 36 91\n",
    "22 31 16 71 51 67 63 89 41 92 36 54 22 40 40 28 66 33 13 80\n",
    "24 47 32 60 99 03 45 02 44 75 33 53 78 36 84 20 35 17 12 50\n",
    "32 98 81 28 64 23 67 10 26 38 40 67 59 54 70 66 18 38 64 70\n",
    "67 26 20 68 02 62 12 20 95 63 94 39 63 08 40 91 66 49 94 21\n",
    "24 55 58 05 66 73 99 26 97 17 78 78 96 83 14 88 34 89 63 72\n",
    "21 36 23 09 75 00 76 44 20 45 35 14 00 61 33 97 34 31 33 95\n",
    "78 17 53 28 22 75 31 67 15 94 03 80 04 62 16 14 09 53 56 92\n",
    "16 39 05 42 96 35 31 47 55 58 88 24 00 17 54 24 36 29 85 57\n",
    "86 56 00 48 35 71 89 07 05 44 44 37 44 60 21 58 51 54 17 58\n",
    "19 80 81 68 05 94 47 69 28 73 92 13 86 52 17 77 04 89 55 40\n",
    "04 52 08 83 97 35 99 16 07 97 57 32 16 26 26 79 33 27 98 66\n",
    "88 36 68 87 57 62 20 72 03 46 33 67 46 55 12 32 63 93 53 69\n",
    "04 42 16 73 38 25 39 11 24 94 72 18 08 46 29 32 40 62 76 36\n",
    "20 69 36 41 72 30 23 88 34 62 99 69 82 67 59 85 74 04 36 16\n",
    "20 73 35 29 78 31 90 01 74 31 49 71 48 86 81 16 23 57 05 54\n",
    "01 70 54 71 83 51 54 69 16 92 33 48 61 43 52 01 89 19 67 48\n",
    "\n",
    "The product of these numbers is 26 × 63 × 78 × 14 = 1788696.\n",
    "\n",
    "What is the greatest product of four adjacent numbers in the same direction (up, down, left, right, or diagonally) in the 20×20 grid?"
   ]
  },
  {
   "cell_type": "code",
   "execution_count": 123,
   "metadata": {},
   "outputs": [
    {
     "data": {
      "text/plain": [
       "24468444"
      ]
     },
     "execution_count": 123,
     "metadata": {},
     "output_type": "execute_result"
    }
   ],
   "source": [
    "52*49*99*97"
   ]
  },
  {
   "cell_type": "code",
   "execution_count": 139,
   "metadata": {},
   "outputs": [
    {
     "name": "stdout",
     "output_type": "stream",
     "text": [
      "The highest product is 70600674 found at location R16C04-Ur.\n"
     ]
    }
   ],
   "source": [
    "#grid\n",
    "\n",
    "grid = []\n",
    "grid.append(list(map(int,'08 02 22 97 38 15 00 40 00 75 04 05 07 78 52 12 50 77 91 08'.split())))\n",
    "grid.append(list(map(int,'49 49 99 40 17 81 18 57 60 87 17 40 98 43 69 48 04 56 62 00'.split())))\n",
    "grid.append(list(map(int,'81 49 31 73 55 79 14 29 93 71 40 67 53 88 30 03 49 13 36 65'.split())))\n",
    "grid.append(list(map(int,'52 70 95 23 04 60 11 42 69 24 68 56 01 32 56 71 37 02 36 91'.split())))\n",
    "grid.append(list(map(int,'22 31 16 71 51 67 63 89 41 92 36 54 22 40 40 28 66 33 13 80'.split())))\n",
    "grid.append(list(map(int,'24 47 32 60 99 03 45 02 44 75 33 53 78 36 84 20 35 17 12 50'.split())))\n",
    "grid.append(list(map(int,'32 98 81 28 64 23 67 10 26 38 40 67 59 54 70 66 18 38 64 70'.split())))\n",
    "grid.append(list(map(int,'67 26 20 68 02 62 12 20 95 63 94 39 63 08 40 91 66 49 94 21'.split())))\n",
    "grid.append(list(map(int,'24 55 58 05 66 73 99 26 97 17 78 78 96 83 14 88 34 89 63 72'.split())))\n",
    "grid.append(list(map(int,'21 36 23 09 75 00 76 44 20 45 35 14 00 61 33 97 34 31 33 95'.split())))\n",
    "grid.append(list(map(int,'78 17 53 28 22 75 31 67 15 94 03 80 04 62 16 14 09 53 56 92'.split())))\n",
    "grid.append(list(map(int,'16 39 05 42 96 35 31 47 55 58 88 24 00 17 54 24 36 29 85 57'.split())))\n",
    "grid.append(list(map(int,'86 56 00 48 35 71 89 07 05 44 44 37 44 60 21 58 51 54 17 58'.split())))\n",
    "grid.append(list(map(int,'19 80 81 68 05 94 47 69 28 73 92 13 86 52 17 77 04 89 55 40'.split())))\n",
    "grid.append(list(map(int,'04 52 08 83 97 35 99 16 07 97 57 32 16 26 26 79 33 27 98 66'.split())))\n",
    "grid.append(list(map(int,'88 36 68 87 57 62 20 72 03 46 33 67 46 55 12 32 63 93 53 69'.split())))\n",
    "grid.append(list(map(int,'04 42 16 73 38 25 39 11 24 94 72 18 08 46 29 32 40 62 76 36'.split())))\n",
    "grid.append(list(map(int,'20 69 36 41 72 30 23 88 34 62 99 69 82 67 59 85 74 04 36 16'.split())))\n",
    "grid.append(list(map(int,'20 73 35 29 78 31 90 01 74 31 49 71 48 86 81 16 23 57 05 54'.split())))\n",
    "grid.append(list(map(int,'01 70 54 71 83 51 54 69 16 92 33 48 61 43 52 01 89 19 67 48'.split())))\n",
    "\n",
    "width = 4\n",
    "results = {}\n",
    "\n",
    "for i  in range(0 , 21-width):\n",
    "    for j in range(0 , 21-width):\n",
    "        \n",
    "        down = 1\n",
    "        accross = 1 \n",
    "        diag_dr = 1\n",
    "        diag_ur = 1\n",
    "        for k in range(0,4):\n",
    "            down = down * grid[i+k][j]\n",
    "            accross = accross * grid[i][j+k]\n",
    "            diag_dr = diag_dr * grid[i+k][j+k]\n",
    "            diag_ur = diag_ur * grid[i+3-k][j+k]\n",
    "        results.update({'R{:02}C{:02}-{}'.format(i+1,j+1,'D'):down})\n",
    "        results.update({'R{:02}C{:02}-{}'.format(i+1,j+1,'A'):accross})\n",
    "        results.update({'R{:02}C{:02}-{}'.format(i+1,j+1,'Dr'):diag_dr})\n",
    "        results.update({'R{:02}C{:02}-{}'.format(i+1+3,j+1,'Ur'):diag_ur})\n",
    "\n",
    "print('The highest product is {} found at location {}.'.format(max(results.values()),[k for k,v in results.items() if v == max(results.values())][0]))"
   ]
  },
  {
   "cell_type": "markdown",
   "metadata": {},
   "source": [
    "# Highly divisible triangular number\n",
    "## Problem 12 \n",
    "The sequence of triangle numbers is generated by adding the natural numbers. So the 7th triangle number would be 1 + 2 + 3 + 4 + 5 + 6 + 7 = 28. The first ten terms would be:\n",
    "\n",
    "1, 3, 6, 10, 15, 21, 28, 36, 45, 55, ...\n",
    "\n",
    "Let us list the factors of the first seven triangle numbers:\n",
    "\n",
    " 1: 1\n",
    " 3: 1,3\n",
    " 6: 1,2,3,6\n",
    "10: 1,2,5,10\n",
    "15: 1,3,5,15\n",
    "21: 1,3,7,21\n",
    "28: 1,2,4,7,14,28\n",
    "We can see that 28 is the first triangle number to have over five divisors.\n",
    "\n",
    "What is the value of the first triangle number to have over five hundred divisors?"
   ]
  },
  {
   "cell_type": "code",
   "execution_count": 156,
   "metadata": {},
   "outputs": [],
   "source": [
    "def ordinal(num):\n",
    "    suffixes = {1: 'st', 2: 'nd', 3: 'rd'}\n",
    "    # I'm checking for 10-20 because those are the digits that\n",
    "    # don't follow the normal counting scheme. \n",
    "    if 10 <= num % 100 <= 20:\n",
    "        suffix = 'th'\n",
    "    else:\n",
    "        # the second parameter is a default.\n",
    "        suffix = suffixes.get(num % 10, 'th')\n",
    "    return str(num) + suffix\n"
   ]
  },
  {
   "cell_type": "code",
   "execution_count": 189,
   "metadata": {},
   "outputs": [
    {
     "name": "stdout",
     "output_type": "stream",
     "text": [
      "The 12375th triangular number is 76576500. It has 576  divisors : [1, 2, 3, 4, 5, 6, 7, 9, 10, 11, 12, 13, 14, 15, 17, 18, 20, 21, 22, 25, 26, 28, 30, 33, 34, 35, 36, 39, 42, 44, 45, 50, 51, 52, 55, 60, 63, 65, 66, 68, 70, 75, 77, 78, 84, 85, 90, 91, 99, 100, 102, 105, 110, 117, 119, 125, 126, 130, 132, 140, 143, 150, 153, 154, 156, 165, 170, 175, 180, 182, 187, 195, 198, 204, 210, 220, 221, 225, 231, 234, 238, 250, 252, 255, 260, 273, 275, 286, 300, 306, 308, 315, 325, 330, 340, 350, 357, 364, 374, 375, 385, 390, 396, 420, 425, 429, 442, 450, 455, 462, 468, 476, 495, 500, 510, 525, 546, 550, 561, 572, 585, 595, 612, 630, 650, 660, 663, 693, 700, 714, 715, 748, 750, 765, 770, 780, 819, 825, 850, 858, 875, 884, 900, 910, 924, 935, 975, 990, 1001, 1020, 1050, 1071, 1092, 1100, 1105, 1122, 1125, 1155, 1170, 1190, 1260, 1275, 1287, 1300, 1309, 1326, 1365, 1375, 1386, 1428, 1430, 1500, 1530, 1540, 1547, 1575, 1625, 1638, 1650, 1683, 1700, 1716, 1750, 1785, 1820, 1870, 1925, 1950, 1980, 1989, 2002, 2100, 2125, 2142, 2145, 2210, 2244, 2250, 2275, 2310, 2340, 2380, 2431, 2475, 2550, 2574, 2618, 2625, 2652, 2730, 2750, 2772, 2805, 2860, 2925, 2975, 3003, 3060, 3094, 3150, 3250, 3276, 3300, 3315, 3366, 3465, 3500, 3570, 3575, 3740, 3825, 3850, 3900, 3927, 3978, 4004, 4095, 4125, 4250, 4284, 4290, 4420, 4500, 4550, 4620, 4641, 4675, 4862, 4875, 4950, 5005, 5100, 5148, 5236, 5250, 5355, 5460, 5500, 5525, 5610, 5775, 5850, 5950, 6006, 6188, 6300, 6375, 6435, 6500, 6545, 6630, 6732, 6825, 6930, 7140, 7150, 7293, 7650, 7700, 7735, 7854, 7875, 7956, 8190, 8250, 8415, 8500, 8580, 8925, 9009, 9100, 9282, 9350, 9625, 9724, 9750, 9900, 9945, 10010, 10500, 10710, 10725, 11050, 11220, 11375, 11550, 11700, 11781, 11900, 12012, 12155, 12375, 12750, 12870, 13090, 13260, 13650, 13860, 13923, 14025, 14300, 14586, 14625, 14875, 15015, 15300, 15470, 15708, 15750, 16380, 16500, 16575, 16830, 17017, 17325, 17850, 17875, 18018, 18564, 18700, 19125, 19250, 19500, 19635, 19890, 20020, 20475, 21420, 21450, 21879, 22100, 22750, 23100, 23205, 23375, 23562, 24310, 24750, 25025, 25500, 25740, 26180, 26775, 27300, 27625, 27846, 28050, 28875, 29172, 29250, 29750, 30030, 30940, 31500, 32175, 32725, 33150, 33660, 34034, 34125, 34650, 35700, 35750, 36036, 36465, 38250, 38500, 38675, 39270, 39780, 40950, 42075, 42900, 43758, 44625, 45045, 45500, 46410, 46750, 47124, 48620, 49500, 49725, 50050, 51051, 53550, 53625, 55250, 55692, 56100, 57750, 58500, 58905, 59500, 60060, 60775, 64350, 65450, 66300, 68068, 68250, 69300, 69615, 70125, 71500, 72930, 75075, 76500, 77350, 78540, 81900, 82875, 84150, 85085, 86625, 87516, 89250, 90090, 92820, 93500, 98175, 99450, 100100, 102102, 102375, 107100, 107250, 109395, 110500, 115500, 116025, 117810, 121550, 125125, 128700, 130900, 133875, 136500, 139230, 140250, 145860, 150150, 153153, 154700, 160875, 163625, 165750, 168300, 170170, 173250, 178500, 180180, 182325, 193375, 196350, 198900, 204204, 204750, 210375, 214500, 218790, 225225, 232050, 235620, 243100, 248625, 250250, 255255, 267750, 278460, 280500, 294525, 300300, 303875, 306306, 321750, 327250, 331500, 340340, 346500, 348075, 364650, 375375, 386750, 392700, 409500, 420750, 425425, 437580, 450450, 464100, 490875, 497250, 500500, 510510, 535500, 546975, 580125, 589050, 607750, 612612, 643500, 654500, 696150, 729300, 750750, 765765, 773500, 841500, 850850, 900900, 911625, 981750, 994500, 1021020, 1093950, 1126125, 1160250, 1178100, 1215500, 1276275, 1392300, 1472625, 1501500, 1531530, 1701700, 1740375, 1823250, 1963500, 2127125, 2187900, 2252250, 2320500, 2552550, 2734875, 2945250, 3063060, 3480750, 3646500, 3828825, 4254250, 4504500, 5105100, 5469750, 5890500, 6381375, 6961500, 7657650, 8508500, 10939500, 12762750, 15315300, 19144125, 25525500, 38288250, 76576500]\n"
     ]
    }
   ],
   "source": [
    "n = 1\n",
    "triangles = {}\n",
    "divisors = []\n",
    "\n",
    "while len(divisors) <= 500:\n",
    "    num = 0\n",
    "    divisors = []\n",
    "    \n",
    "    for i in range(1,n+1):\n",
    "        num += i\n",
    "    \n",
    "    i = 1\n",
    "    while (len(divisors) == 0) or (i < divisors[-1]) :\n",
    "        if num%i == 0:\n",
    "            divisors.append(i)\n",
    "            divisors.append(int(num/i))\n",
    "        i += 1\n",
    "        \n",
    "    triangles.update({n:(num,len(divisors), divisors.sort())})   \n",
    "    \n",
    "    if len(divisors) > 500:\n",
    "        break\n",
    "    \n",
    "    n += 1\n",
    "\n",
    "print('The {} triangular number is {}. It has {}  divisors : {}'.format(ordinal(n),num, len(divisors), divisors))"
   ]
  },
  {
   "cell_type": "markdown",
   "metadata": {},
   "source": [
    "# Large sum\n",
    "## Problem 13 \n",
    "Work out the first ten digits of the sum of the following one-hundred 50-digit numbers.\n",
    "\n",
    "37107287533902102798797998220837590246510135740250\n",
    "46376937677490009712648124896970078050417018260538\n",
    "74324986199524741059474233309513058123726617309629\n",
    "91942213363574161572522430563301811072406154908250\n",
    "23067588207539346171171980310421047513778063246676\n",
    "89261670696623633820136378418383684178734361726757\n",
    "28112879812849979408065481931592621691275889832738\n",
    "44274228917432520321923589422876796487670272189318\n",
    "47451445736001306439091167216856844588711603153276\n",
    "70386486105843025439939619828917593665686757934951\n",
    "62176457141856560629502157223196586755079324193331\n",
    "64906352462741904929101432445813822663347944758178\n",
    "92575867718337217661963751590579239728245598838407\n",
    "58203565325359399008402633568948830189458628227828\n",
    "80181199384826282014278194139940567587151170094390\n",
    "35398664372827112653829987240784473053190104293586\n",
    "86515506006295864861532075273371959191420517255829\n",
    "71693888707715466499115593487603532921714970056938\n",
    "54370070576826684624621495650076471787294438377604\n",
    "53282654108756828443191190634694037855217779295145\n",
    "36123272525000296071075082563815656710885258350721\n",
    "45876576172410976447339110607218265236877223636045\n",
    "17423706905851860660448207621209813287860733969412\n",
    "81142660418086830619328460811191061556940512689692\n",
    "51934325451728388641918047049293215058642563049483\n",
    "62467221648435076201727918039944693004732956340691\n",
    "15732444386908125794514089057706229429197107928209\n",
    "55037687525678773091862540744969844508330393682126\n",
    "18336384825330154686196124348767681297534375946515\n",
    "80386287592878490201521685554828717201219257766954\n",
    "78182833757993103614740356856449095527097864797581\n",
    "16726320100436897842553539920931837441497806860984\n",
    "48403098129077791799088218795327364475675590848030\n",
    "87086987551392711854517078544161852424320693150332\n",
    "59959406895756536782107074926966537676326235447210\n",
    "69793950679652694742597709739166693763042633987085\n",
    "41052684708299085211399427365734116182760315001271\n",
    "65378607361501080857009149939512557028198746004375\n",
    "35829035317434717326932123578154982629742552737307\n",
    "94953759765105305946966067683156574377167401875275\n",
    "88902802571733229619176668713819931811048770190271\n",
    "25267680276078003013678680992525463401061632866526\n",
    "36270218540497705585629946580636237993140746255962\n",
    "24074486908231174977792365466257246923322810917141\n",
    "91430288197103288597806669760892938638285025333403\n",
    "34413065578016127815921815005561868836468420090470\n",
    "23053081172816430487623791969842487255036638784583\n",
    "11487696932154902810424020138335124462181441773470\n",
    "63783299490636259666498587618221225225512486764533\n",
    "67720186971698544312419572409913959008952310058822\n",
    "95548255300263520781532296796249481641953868218774\n",
    "76085327132285723110424803456124867697064507995236\n",
    "37774242535411291684276865538926205024910326572967\n",
    "23701913275725675285653248258265463092207058596522\n",
    "29798860272258331913126375147341994889534765745501\n",
    "18495701454879288984856827726077713721403798879715\n",
    "38298203783031473527721580348144513491373226651381\n",
    "34829543829199918180278916522431027392251122869539\n",
    "40957953066405232632538044100059654939159879593635\n",
    "29746152185502371307642255121183693803580388584903\n",
    "41698116222072977186158236678424689157993532961922\n",
    "62467957194401269043877107275048102390895523597457\n",
    "23189706772547915061505504953922979530901129967519\n",
    "86188088225875314529584099251203829009407770775672\n",
    "11306739708304724483816533873502340845647058077308\n",
    "82959174767140363198008187129011875491310547126581\n",
    "97623331044818386269515456334926366572897563400500\n",
    "42846280183517070527831839425882145521227251250327\n",
    "55121603546981200581762165212827652751691296897789\n",
    "32238195734329339946437501907836945765883352399886\n",
    "75506164965184775180738168837861091527357929701337\n",
    "62177842752192623401942399639168044983993173312731\n",
    "32924185707147349566916674687634660915035914677504\n",
    "99518671430235219628894890102423325116913619626622\n",
    "73267460800591547471830798392868535206946944540724\n",
    "76841822524674417161514036427982273348055556214818\n",
    "97142617910342598647204516893989422179826088076852\n",
    "87783646182799346313767754307809363333018982642090\n",
    "10848802521674670883215120185883543223812876952786\n",
    "71329612474782464538636993009049310363619763878039\n",
    "62184073572399794223406235393808339651327408011116\n",
    "66627891981488087797941876876144230030984490851411\n",
    "60661826293682836764744779239180335110989069790714\n",
    "85786944089552990653640447425576083659976645795096\n",
    "66024396409905389607120198219976047599490197230297\n",
    "64913982680032973156037120041377903785566085089252\n",
    "16730939319872750275468906903707539413042652315011\n",
    "94809377245048795150954100921645863754710598436791\n",
    "78639167021187492431995700641917969777599028300699\n",
    "15368713711936614952811305876380278410754449733078\n",
    "40789923115535562561142322423255033685442488917353\n",
    "44889911501440648020369068063960672322193204149535\n",
    "41503128880339536053299340368006977710650566631954\n",
    "81234880673210146739058568557934581403627822703280\n",
    "82616570773948327592232845941706525094512325230608\n",
    "22918802058777319719839450180888072429661980811197\n",
    "77158542502016545090413245809786882778948721859617\n",
    "72107838435069186155435662884062257473692284509516\n",
    "20849603980134001723930671666823555245252804609722\n",
    "53503534226472524250874054075591789781264330331690"
   ]
  },
  {
   "cell_type": "code",
   "execution_count": 304,
   "metadata": {},
   "outputs": [],
   "source": [
    "numbers = []\n",
    "numbers.append('37107287533902102798797998220837590246510135740250')\n",
    "numbers.append('46376937677490009712648124896970078050417018260538')\n",
    "numbers.append('74324986199524741059474233309513058123726617309629')\n",
    "numbers.append('91942213363574161572522430563301811072406154908250')\n",
    "numbers.append('23067588207539346171171980310421047513778063246676')\n",
    "numbers.append('89261670696623633820136378418383684178734361726757')\n",
    "numbers.append('28112879812849979408065481931592621691275889832738')\n",
    "numbers.append('44274228917432520321923589422876796487670272189318')\n",
    "numbers.append('47451445736001306439091167216856844588711603153276')\n",
    "numbers.append('70386486105843025439939619828917593665686757934951')\n",
    "numbers.append('62176457141856560629502157223196586755079324193331')\n",
    "numbers.append('64906352462741904929101432445813822663347944758178')\n",
    "numbers.append('92575867718337217661963751590579239728245598838407')\n",
    "numbers.append('58203565325359399008402633568948830189458628227828')\n",
    "numbers.append('80181199384826282014278194139940567587151170094390')\n",
    "numbers.append('35398664372827112653829987240784473053190104293586')\n",
    "numbers.append('86515506006295864861532075273371959191420517255829')\n",
    "numbers.append('71693888707715466499115593487603532921714970056938')\n",
    "numbers.append('54370070576826684624621495650076471787294438377604')\n",
    "numbers.append('53282654108756828443191190634694037855217779295145')\n",
    "numbers.append('36123272525000296071075082563815656710885258350721')\n",
    "numbers.append('45876576172410976447339110607218265236877223636045')\n",
    "numbers.append('17423706905851860660448207621209813287860733969412')\n",
    "numbers.append('81142660418086830619328460811191061556940512689692')\n",
    "numbers.append('51934325451728388641918047049293215058642563049483')\n",
    "numbers.append('62467221648435076201727918039944693004732956340691')\n",
    "numbers.append('15732444386908125794514089057706229429197107928209')\n",
    "numbers.append('55037687525678773091862540744969844508330393682126')\n",
    "numbers.append('18336384825330154686196124348767681297534375946515')\n",
    "numbers.append('80386287592878490201521685554828717201219257766954')\n",
    "numbers.append('78182833757993103614740356856449095527097864797581')\n",
    "numbers.append('16726320100436897842553539920931837441497806860984')\n",
    "numbers.append('48403098129077791799088218795327364475675590848030')\n",
    "numbers.append('87086987551392711854517078544161852424320693150332')\n",
    "numbers.append('59959406895756536782107074926966537676326235447210')\n",
    "numbers.append('69793950679652694742597709739166693763042633987085')\n",
    "numbers.append('41052684708299085211399427365734116182760315001271')\n",
    "numbers.append('65378607361501080857009149939512557028198746004375')\n",
    "numbers.append('35829035317434717326932123578154982629742552737307')\n",
    "numbers.append('94953759765105305946966067683156574377167401875275')\n",
    "numbers.append('88902802571733229619176668713819931811048770190271')\n",
    "numbers.append('25267680276078003013678680992525463401061632866526')\n",
    "numbers.append('36270218540497705585629946580636237993140746255962')\n",
    "numbers.append('24074486908231174977792365466257246923322810917141')\n",
    "numbers.append('91430288197103288597806669760892938638285025333403')\n",
    "numbers.append('34413065578016127815921815005561868836468420090470')\n",
    "numbers.append('23053081172816430487623791969842487255036638784583')\n",
    "numbers.append('11487696932154902810424020138335124462181441773470')\n",
    "numbers.append('63783299490636259666498587618221225225512486764533')\n",
    "numbers.append('67720186971698544312419572409913959008952310058822')\n",
    "numbers.append('95548255300263520781532296796249481641953868218774')\n",
    "numbers.append('76085327132285723110424803456124867697064507995236')\n",
    "numbers.append('37774242535411291684276865538926205024910326572967')\n",
    "numbers.append('23701913275725675285653248258265463092207058596522')\n",
    "numbers.append('29798860272258331913126375147341994889534765745501')\n",
    "numbers.append('18495701454879288984856827726077713721403798879715')\n",
    "numbers.append('38298203783031473527721580348144513491373226651381')\n",
    "numbers.append('34829543829199918180278916522431027392251122869539')\n",
    "numbers.append('40957953066405232632538044100059654939159879593635')\n",
    "numbers.append('29746152185502371307642255121183693803580388584903')\n",
    "numbers.append('41698116222072977186158236678424689157993532961922')\n",
    "numbers.append('62467957194401269043877107275048102390895523597457')\n",
    "numbers.append('23189706772547915061505504953922979530901129967519')\n",
    "numbers.append('86188088225875314529584099251203829009407770775672')\n",
    "numbers.append('11306739708304724483816533873502340845647058077308')\n",
    "numbers.append('82959174767140363198008187129011875491310547126581')\n",
    "numbers.append('97623331044818386269515456334926366572897563400500')\n",
    "numbers.append('42846280183517070527831839425882145521227251250327')\n",
    "numbers.append('55121603546981200581762165212827652751691296897789')\n",
    "numbers.append('32238195734329339946437501907836945765883352399886')\n",
    "numbers.append('75506164965184775180738168837861091527357929701337')\n",
    "numbers.append('62177842752192623401942399639168044983993173312731')\n",
    "numbers.append('32924185707147349566916674687634660915035914677504')\n",
    "numbers.append('99518671430235219628894890102423325116913619626622')\n",
    "numbers.append('73267460800591547471830798392868535206946944540724')\n",
    "numbers.append('76841822524674417161514036427982273348055556214818')\n",
    "numbers.append('97142617910342598647204516893989422179826088076852')\n",
    "numbers.append('87783646182799346313767754307809363333018982642090')\n",
    "numbers.append('10848802521674670883215120185883543223812876952786')\n",
    "numbers.append('71329612474782464538636993009049310363619763878039')\n",
    "numbers.append('62184073572399794223406235393808339651327408011116')\n",
    "numbers.append('66627891981488087797941876876144230030984490851411')\n",
    "numbers.append('60661826293682836764744779239180335110989069790714')\n",
    "numbers.append('85786944089552990653640447425576083659976645795096')\n",
    "numbers.append('66024396409905389607120198219976047599490197230297')\n",
    "numbers.append('64913982680032973156037120041377903785566085089252')\n",
    "numbers.append('16730939319872750275468906903707539413042652315011')\n",
    "numbers.append('94809377245048795150954100921645863754710598436791')\n",
    "numbers.append('78639167021187492431995700641917969777599028300699')\n",
    "numbers.append('15368713711936614952811305876380278410754449733078')\n",
    "numbers.append('40789923115535562561142322423255033685442488917353')\n",
    "numbers.append('44889911501440648020369068063960672322193204149535')\n",
    "numbers.append('41503128880339536053299340368006977710650566631954')\n",
    "numbers.append('81234880673210146739058568557934581403627822703280')\n",
    "numbers.append('82616570773948327592232845941706525094512325230608')\n",
    "numbers.append('22918802058777319719839450180888072429661980811197')\n",
    "numbers.append('77158542502016545090413245809786882778948721859617')\n",
    "numbers.append('72107838435069186155435662884062257473692284509516')\n",
    "numbers.append('20849603980134001723930671666823555245252804609722')\n",
    "numbers.append('53503534226472524250874054075591789781264330331690')"
   ]
  },
  {
   "cell_type": "code",
   "execution_count": 326,
   "metadata": {},
   "outputs": [],
   "source": [
    "def arraysum(n1,n2):\n",
    "    if len(n1) < len(n2):\n",
    "        n1 = [0]*(len(n2) - len(n1))+n1\n",
    "    elif len(n2) < len(n1):\n",
    "        n2 = [0]*(len(n1) - len(n2))+n2\n",
    "\n",
    "    buffer = n1\n",
    "    for i in range(1,len(buffer)+1):\n",
    "\n",
    "        buffer[-i] = buffer[-i] + n2[-i]\n",
    "        if buffer[-i] > 9 and i == len(buffer):\n",
    "            buffer = [0] + buffer\n",
    "        if buffer[-i] > 9:     \n",
    "            buffer[-i-1] = buffer[-i-1] + int((buffer[-i]-buffer[-i]%10)/10)  \n",
    "            buffer[-i] = buffer[-i]%10\n",
    "\n",
    "    while buffer[0] == 0:\n",
    "        buffer.pop(0)\n",
    "   \n",
    "    print(''.join(map(str,buffer)))\n",
    "    return buffer"
   ]
  },
  {
   "cell_type": "code",
   "execution_count": 332,
   "metadata": {},
   "outputs": [
    {
     "name": "stdout",
     "output_type": "stream",
     "text": [
      "0\n",
      "5537376230390876637302048746832985971773659831892672\n",
      "\n",
      "5537376230\n"
     ]
    }
   ],
   "source": [
    "result = [0]\n",
    "print(''.join(map(str,result)))\n",
    "\n",
    "for numstr in numbers:\n",
    "    result = arraysum(result, [int(num) for num in numstr])\n",
    "    \n",
    "print(''.join(map(str,result)))\n",
    "print()\n",
    "print(''.join(map(str,result[0:10])))"
   ]
  },
  {
   "cell_type": "markdown",
   "metadata": {},
   "source": [
    "# Longest Collatz sequence\n",
    "## Problem 14 \n",
    "The following iterative sequence is defined for the set of positive integers:\n",
    "\n",
    "n → n/2 (n is even)\n",
    "n → 3n + 1 (n is odd)\n",
    "\n",
    "Using the rule above and starting with 13, we generate the following sequence:\n",
    "\n",
    "13 → 40 → 20 → 10 → 5 → 16 → 8 → 4 → 2 → 1\n",
    "It can be seen that this sequence (starting at 13 and finishing at 1) contains 10 terms. Although it has not been proved yet (Collatz Problem), it is thought that all starting numbers finish at 1.\n",
    "\n",
    "Which starting number, under one million, produces the longest chain?\n",
    "\n",
    "NOTE: Once the chain starts the terms are allowed to go above one million."
   ]
  },
  {
   "cell_type": "code",
   "execution_count": 339,
   "metadata": {},
   "outputs": [],
   "source": [
    "def collatz(num):\n",
    "    seq = [num]\n",
    "    while seq[-1] > 1:\n",
    "        if {collatz_seq}\n",
    "        if seq[-1]%2 == 0:\n",
    "            seq.append(int(seq[-1]/2))\n",
    "        else:\n",
    "            seq.append(seq[-1]*3 + 1)\n",
    "    return seq\n",
    "    "
   ]
  },
  {
   "cell_type": "code",
   "execution_count": 385,
   "metadata": {},
   "outputs": [
    {
     "data": {
      "text/plain": [
       "[9, 28, 14, 7, 22, 11, 34, 17, 52, 26, 13, 40, 20, 10, 5, 16, 8, 4, 2, 1]"
      ]
     },
     "execution_count": 385,
     "metadata": {},
     "output_type": "execute_result"
    }
   ],
   "source": [
    "collatz(9)"
   ]
  },
  {
   "cell_type": "code",
   "execution_count": 424,
   "metadata": {},
   "outputs": [
    {
     "name": "stdout",
     "output_type": "stream",
     "text": [
      "The longest sequence is 837799 with length 525\n",
      "[837799, 2513398, 1256699, 3770098, 1885049, 5655148, 2827574, 1413787, 4241362, 2120681, 6362044, 3181022, 1590511, 4771534, 2385767, 7157302, 3578651, 10735954, 5367977, 16103932, 8051966, 4025983, 12077950, 6038975, 18116926, 9058463, 27175390, 13587695, 40763086, 20381543, 61144630, 30572315, 91716946, 45858473, 137575420, 68787710, 34393855, 103181566, 51590783, 154772350, 77386175, 232158526, 116079263, 348237790, 174118895, 522356686, 261178343, 783535030, 391767515, 1175302546, 587651273, 1762953820, 881476910, 440738455, 1322215366, 661107683, 1983323050, 991661525, 2974984576, 1487492288, 743746144, 371873072, 185936536, 92968268, 46484134, 23242067, 69726202, 34863101, 104589304, 52294652, 26147326, 13073663, 39220990, 19610495, 58831486, 29415743, 88247230, 44123615, 132370846, 66185423, 198556270, 99278135, 297834406, 148917203, 446751610, 223375805, 670127416, 335063708, 167531854, 83765927, 251297782, 125648891, 376946674, 188473337, 565420012, 282710006, 141355003, 424065010, 212032505, 636097516, 318048758, 159024379, 477073138, 238536569, 715609708, 357804854, 178902427, 536707282, 268353641, 805060924, 402530462, 201265231, 603795694, 301897847, 905693542, 452846771, 1358540314, 679270157, 2037810472, 1018905236, 509452618, 254726309, 764178928, 382089464, 191044732, 95522366, 47761183, 143283550, 71641775, 214925326, 107462663, 322387990, 161193995, 483581986, 241790993, 725372980, 362686490, 181343245, 544029736, 272014868, 136007434, 68003717, 204011152, 102005576, 51002788, 25501394, 12750697, 38252092, 19126046, 9563023, 28689070, 14344535, 43033606, 21516803, 64550410, 32275205, 96825616, 48412808, 24206404, 12103202, 6051601, 18154804, 9077402, 4538701, 13616104, 6808052, 3404026, 1702013, 5106040, 2553020, 1276510, 638255, 1914766, 957383, 2872150, 1436075, 4308226, 2154113, 6462340, 3231170, 1615585, 4846756, 2423378, 1211689, 3635068, 1817534, 908767, 2726302, 1363151, 4089454, 2044727, 6134182, 3067091, 9201274, 4600637, 13801912, 6900956, 3450478, 1725239, 5175718, 2587859, 7763578, 3881789, 11645368, 5822684, 2911342, 1455671, 4367014, 2183507, 6550522, 3275261, 9825784, 4912892, 2456446, 1228223, 3684670, 1842335, 5527006, 2763503, 8290510, 4145255, 12435766, 6217883, 18653650, 9326825, 27980476, 13990238, 6995119, 20985358, 10492679, 31478038, 15739019, 47217058, 23608529, 70825588, 35412794, 17706397, 53119192, 26559596, 13279798, 6639899, 19919698, 9959849, 29879548, 14939774, 7469887, 22409662, 11204831, 33614494, 16807247, 50421742, 25210871, 75632614, 37816307, 113448922, 56724461, 170173384, 85086692, 42543346, 21271673, 63815020, 31907510, 15953755, 47861266, 23930633, 71791900, 35895950, 17947975, 53843926, 26921963, 80765890, 40382945, 121148836, 60574418, 30287209, 90861628, 45430814, 22715407, 68146222, 34073111, 102219334, 51109667, 153329002, 76664501, 229993504, 114996752, 57498376, 28749188, 14374594, 7187297, 21561892, 10780946, 5390473, 16171420, 8085710, 4042855, 12128566, 6064283, 18192850, 9096425, 27289276, 13644638, 6822319, 20466958, 10233479, 30700438, 15350219, 46050658, 23025329, 69075988, 34537994, 17268997, 51806992, 25903496, 12951748, 6475874, 3237937, 9713812, 4856906, 2428453, 7285360, 3642680, 1821340, 910670, 455335, 1366006, 683003, 2049010, 1024505, 3073516, 1536758, 768379, 2305138, 1152569, 3457708, 1728854, 864427, 2593282, 1296641, 3889924, 1944962, 972481, 2917444, 1458722, 729361, 2188084, 1094042, 547021, 1641064, 820532, 410266, 205133, 615400, 307700, 153850, 76925, 230776, 115388, 57694, 28847, 86542, 43271, 129814, 64907, 194722, 97361, 292084, 146042, 73021, 219064, 109532, 54766, 27383, 82150, 41075, 123226, 61613, 184840, 92420, 46210, 23105, 69316, 34658, 17329, 51988, 25994, 12997, 38992, 19496, 9748, 4874, 2437, 7312, 3656, 1828, 914, 457, 1372, 686, 343, 1030, 515, 1546, 773, 2320, 1160, 580, 290, 145, 436, 218, 109, 328, 164, 82, 41, 124, 62, 31, 94, 47, 142, 71, 214, 107, 322, 161, 484, 242, 121, 364, 182, 91, 274, 137, 412, 206, 103, 310, 155, 466, 233, 700, 350, 175, 526, 263, 790, 395, 1186, 593, 1780, 890, 445, 1336, 668, 334, 167, 502, 251, 754, 377, 1132, 566, 283, 850, 425, 1276, 638, 319, 958, 479, 1438, 719, 2158, 1079, 3238, 1619, 4858, 2429, 7288, 3644, 1822, 911, 2734, 1367, 4102, 2051, 6154, 3077, 9232, 4616, 2308, 1154, 577, 1732, 866, 433, 1300, 650, 325, 976, 488, 244, 122, 61, 184, 92, 46, 23, 70, 35, 106, 53, 160, 80, 40, 20, 10, 5, 16, 8, 4, 2, 1]\n"
     ]
    }
   ],
   "source": [
    "collatz_seq = {1:[1]}\n",
    "longest_seq = 1\n",
    "\n",
    "for num in range(2,10**6):\n",
    "    seq = [num]\n",
    "    while seq[-1] > 1:\n",
    "        if seq[-1] in collatz_seq.keys():\n",
    "            seq = seq +  collatz_seq[seq[-1]][1:]        \n",
    "        elif seq[-1]%2 == 0:\n",
    "            seq.append(int(seq[-1]/2))\n",
    "        else:\n",
    "            seq.append(seq[-1]*3 + 1)\n",
    "    \n",
    "    if len(seq) > len(collatz_seq[longest_seq]):\n",
    "        longest_seq = num\n",
    "        \n",
    "    #print('{:2} {}'.format(str(num),','.join(map(str,seq)))) \n",
    "    \n",
    "    #old code. amended to imporove calculation speed by saving intermediate points\n",
    "    #collatz_seq.update({num:seq})\n",
    "    \n",
    "    while seq[0] not in collatz_seq.keys():\n",
    "        collatz_seq.update({seq[0]:seq})\n",
    "        seq = seq[1:]\n",
    "        \n",
    "    \n",
    "    \n",
    "    \n",
    "print('The longest sequence is {} with length {}'.format(longest_seq,len(collatz_seq[longest_seq])))        \n",
    "print(collatz_seq[longest_seq])\n",
    "            \n"
   ]
  },
  {
   "cell_type": "markdown",
   "metadata": {},
   "source": [
    "# Lattice paths\n",
    "## Problem 15 \n",
    "Starting in the top left corner of a 2×2 grid, and only being able to move to the right and down, there are exactly 6 routes to the bottom right corner.\n",
    "\n",
    "<img src=https://projecteuler.net/project/images/p015.gif>\n",
    "\n",
    "How many such routes are there through a 20×20 grid?"
   ]
  },
  {
   "cell_type": "code",
   "execution_count": 487,
   "metadata": {},
   "outputs": [
    {
     "name": "stdout",
     "output_type": "stream",
     "text": [
      "There are 137846528820 paths from top left to bottom right\n",
      "\n"
     ]
    }
   ],
   "source": [
    "matrix_size = 21\n",
    "\n",
    "paths = [[0 for x in range(matrix_size)] for x in range(matrix_size)]\n",
    "\n",
    "for x in range(matrix_size-1,-1,-1):\n",
    "    for y in range(matrix_size-1,-1,-1): \n",
    "        if x == matrix_size-1:\n",
    "            paths[x][y] = 1\n",
    "        elif y == matrix_size-1:\n",
    "            paths[x][y] = 1\n",
    "        else:\n",
    "            paths[x][y] = paths[x+1][y] + paths[x][y+1]\n",
    "                    \n",
    "print('There are {} paths from top left to bottom right'.format(paths[0][0]))\n",
    "print()\n",
    "#for x in paths:\n",
    "#    for y in x:\n",
    "#        print('{:3} '.format(y), end='')\n",
    "#    print()"
   ]
  },
  {
   "cell_type": "code",
   "execution_count": 496,
   "metadata": {},
   "outputs": [
    {
     "data": {
      "text/plain": [
       "6.0"
      ]
     },
     "execution_count": 496,
     "metadata": {},
     "output_type": "execute_result"
    }
   ],
   "source": [
    "#Simpler result for those with better math \n",
    "\n",
    "def countRoutes(n):\n",
    "    result = 1\n",
    "    for i in range(1,n+1):\n",
    "        result = result * (n + i)/i\n",
    "    return result\n",
    "\n",
    "countRoutes(2)"
   ]
  },
  {
   "cell_type": "markdown",
   "metadata": {},
   "source": [
    "# Power digit sum\n",
    "## Problem 16 \n",
    "215 = 32768 and the sum of its digits is 3 + 2 + 7 + 6 + 8 = 26.\n",
    "\n",
    "What is the sum of the digits of the number 21000?"
   ]
  },
  {
   "cell_type": "code",
   "execution_count": 553,
   "metadata": {},
   "outputs": [],
   "source": [
    "def arraysum(n1,n2):\n",
    "    if len(n1) < len(n2):\n",
    "        n1 = [0]*(len(n2) - len(n1))+n1\n",
    "    elif len(n2) < len(n1):\n",
    "        n2 = [0]*(len(n1) - len(n2))+n2\n",
    "\n",
    "    buffer = n1\n",
    "    for i in range(1,len(buffer)+1):\n",
    "\n",
    "        buffer[-i] = buffer[-i] + n2[-i]\n",
    "        if buffer[-i] > 9 and i == len(buffer):\n",
    "            buffer = [0] + buffer\n",
    "        if buffer[-i] > 9:     \n",
    "            buffer[-i-1] = buffer[-i-1] + int((buffer[-i]-buffer[-i]%10)/10)  \n",
    "            buffer[-i] = buffer[-i]%10\n",
    "            \n",
    "    while buffer[0] == 0:\n",
    "        buffer.pop(0)\n",
    "   \n",
    "    #print(''.join(map(str,buffer)))\n",
    "    return buffer"
   ]
  },
  {
   "cell_type": "code",
   "execution_count": 554,
   "metadata": {},
   "outputs": [
    {
     "name": "stdout",
     "output_type": "stream",
     "text": [
      "2 to the power of 1000 is :\n",
      "\n",
      "10715086071862673209484250490600018105614048117055336074437503883703510511249361224931983788156958581275946729175531468251871452856923140435984577574698574803934567774824230985421074605062371141877954182153046474983581941267398767559165543946077062914571196477686542167660429831652624386837205668069376\n",
      "\n",
      "This number is 302 digits long\n",
      "\n",
      "The sum of these digits is 1366\n"
     ]
    }
   ],
   "source": [
    "power = 1000\n",
    "\n",
    "result = [1]\n",
    "for i in range(power):\n",
    "    result = arraysum(list(result), list(result)) # have to use list(result) to avoid result being passed as reference \n",
    "    \n",
    "print('2 to the power of {} is :\\n\\n{}\\n'.format(power,''.join(map(str,result))))\n",
    "print('This number is {} digits long\\n'.format(len(result)))\n",
    "print('The sum of these digits is {}'.format(sum(result)))\n",
    "\n"
   ]
  },
  {
   "cell_type": "markdown",
   "metadata": {},
   "source": [
    "# Number letter counts\n",
    "## Problem 17 \n",
    "If the numbers 1 to 5 are written out in words: one, two, three, four, five, then there are 3 + 3 + 5 + 4 + 4 = 19 letters used in total.\n",
    "\n",
    "If all the numbers from 1 to 1000 (one thousand) inclusive were written out in words, how many letters would be used?\n",
    "\n",
    "\n",
    "NOTE: Do not count spaces or hyphens. For example, 342 (three hundred and forty-two) contains 23 letters and 115 (one hundred and fifteen) contains 20 letters. The use of \"and\" when writing out numbers is in compliance with British usage."
   ]
  },
  {
   "cell_type": "code",
   "execution_count": 602,
   "metadata": {},
   "outputs": [],
   "source": [
    "num2words1 = {0: 'Zero', 1: 'One', 2: 'Two', 3: 'Three', 4: 'Four', 5: 'Five', \\\n",
    "            6: 'Six', 7: 'Seven', 8: 'Eight', 9: 'Nine', 10: 'Ten', \\\n",
    "            11: 'Eleven', 12: 'Twelve', 13: 'Thirteen', 14: 'Fourteen', \\\n",
    "            15: 'Fifteen', 16: 'Sixteen', 17: 'Seventeen', 18: 'Eighteen', 19: 'Nineteen'}\n",
    "num2words2 = {20:'Twenty', 30:'Thirty', 40:'Forty', 50:'Fifty', 60:'Sixty', 70:'Seventy', 80:'Eighty', 90:'Ninety'}"
   ]
  },
  {
   "cell_type": "code",
   "execution_count": 646,
   "metadata": {},
   "outputs": [],
   "source": [
    "def numtowords(number):\n",
    "    if number < 20:\n",
    "        return num2words1[number]\n",
    "    elif number < 100 and number%10 == 0:\n",
    "        return num2words2[number]\n",
    "    elif number < 100:\n",
    "        return num2words2[number-number%10] + ' ' + num2words1[number%10]\n",
    "    elif number < 1000 and number%100 == 0:\n",
    "        return num2words1[number//100] + ' Hundred'\n",
    "    elif number < 1000:\n",
    "        return num2words1[number//100] + ' Hundred and ' + numtowords(number%100)\n",
    "    elif number < 1000000:    \n",
    "        if number%1000 == 0:\n",
    "            return numtowords(number//1000) + ' Thousand'\n",
    "        if number%1000 < 100:\n",
    "            return numtowords(number//1000) + ' Thousand and ' + numtowords(number%1000)\n",
    "        else:\n",
    "            return numtowords(number//1000) + ' Thousand, ' + numtowords(number%1000)\n",
    "    else:      \n",
    "        return number\n"
   ]
  },
  {
   "cell_type": "code",
   "execution_count": 655,
   "metadata": {},
   "outputs": [
    {
     "name": "stdout",
     "output_type": "stream",
     "text": [
      "21124\n"
     ]
    }
   ],
   "source": [
    "length = 0\n",
    "for i in range(1,1001):\n",
    "    length += len([letter for letter in numtowords(i) if letter not in [' ', ',']]) \n",
    "           \n",
    "print(length)"
   ]
  },
  {
   "cell_type": "markdown",
   "metadata": {},
   "source": [
    "# Maximum path sum I\n",
    "## Problem 18\n",
    "\n",
    "By starting at the top of the triangle below and moving to adjacent numbers on the row below, the maximum total from top to bottom is 23.\n",
    "\n",
    "3\n",
    "7 4\n",
    "2 4 6\n",
    "8 5 9 3\n",
    "\n",
    "That is, 3 + 7 + 4 + 9 = 23.\n",
    "\n",
    "Find the maximum total from top to bottom of the triangle below:\n",
    "\n",
    "75\n",
    "95 64\n",
    "17 47 82\n",
    "18 35 87 10\n",
    "20 04 82 47 65\n",
    "19 01 23 75 03 34\n",
    "88 02 77 73 07 63 67\n",
    "99 65 04 28 06 16 70 92\n",
    "41 41 26 56 83 40 80 70 33\n",
    "41 48 72 33 47 32 37 16 94 29\n",
    "53 71 44 65 25 43 91 52 97 51 14\n",
    "70 11 33 28 77 73 17 78 39 68 17 57\n",
    "91 71 52 38 17 14 91 43 58 50 27 29 48\n",
    "63 66 04 68 89 53 67 30 73 16 69 87 40 31\n",
    "04 62 98 27 23 09 70 98 73 93 38 53 60 04 23\n",
    "\n",
    "NOTE: As there are only 16384 routes, it is possible to solve this problem by trying every route. However, Problem 67, is the same challenge with a triangle containing one-hundred rows; it cannot be solved by brute force, and requires a clever method! ;o)"
   ]
  },
  {
   "cell_type": "code",
   "execution_count": 714,
   "metadata": {},
   "outputs": [
    {
     "name": "stdout",
     "output_type": "stream",
     "text": [
      "The highest path with a value of 1074 is :\n",
      "\n",
      "75\n",
      "64\n",
      "82\n",
      "87\n",
      "82\n",
      "75\n",
      "73\n",
      "28\n",
      "83\n",
      "32\n",
      "91\n",
      "78\n",
      "58\n",
      "73\n"
     ]
    }
   ],
   "source": [
    "triangle = []\n",
    "\n",
    "triangle.append(list(map(int,'75'.split())))\n",
    "triangle.append(list(map(int,'95 64'.split())))\n",
    "triangle.append(list(map(int,'17 47 82'.split())))\n",
    "triangle.append(list(map(int,'18 35 87 10'.split())))\n",
    "triangle.append(list(map(int,'20 04 82 47 65'.split())))\n",
    "triangle.append(list(map(int,'19 01 23 75 03 34'.split())))\n",
    "triangle.append(list(map(int,'88 02 77 73 07 63 67'.split())))\n",
    "triangle.append(list(map(int,'99 65 04 28 06 16 70 92'.split())))\n",
    "triangle.append(list(map(int,'41 41 26 56 83 40 80 70 33'.split())))\n",
    "triangle.append(list(map(int,'41 48 72 33 47 32 37 16 94 29'.split())))\n",
    "triangle.append(list(map(int,'53 71 44 65 25 43 91 52 97 51 14'.split())))\n",
    "triangle.append(list(map(int,'70 11 33 28 77 73 17 78 39 68 17 57'.split())))\n",
    "triangle.append(list(map(int,'91 71 52 38 17 14 91 43 58 50 27 29 48'.split())))\n",
    "triangle.append(list(map(int,'63 66 04 68 89 53 67 30 73 16 69 87 40 31'.split())))\n",
    "triangle.append(list(map(int,'04 62 98 27 23 09 70 98 73 93 38 53 60 04 23'.split())))\n",
    "\n",
    "# (value, maxsum, right)\n",
    "\n",
    "for i in range(len(triangle)-1,-1,-1):\n",
    "    for j in range(len(triangle[i])):\n",
    "        if i == len(triangle)-1:\n",
    "            triangle[i][j] = (triangle[i][j],triangle[i][j],)\n",
    "        else:\n",
    "            if triangle[i+1][j][1] > triangle[i+1][j+1][1]:\n",
    "                triangle[i][j] = (triangle[i][j],triangle[i][j]+triangle[i+1][j][1],False)\n",
    "            else:\n",
    "                triangle[i][j] = (triangle[i][j],triangle[i][j]+triangle[i+1][j+1][1],True)                   \n",
    "        \n",
    "print('The highest path with a value of {} is :'.format(triangle[0][0][1]))\n",
    "print()\n",
    "\n",
    "r = 0\n",
    "bestpath = []\n",
    "for i in range(len(triangle)-1):\n",
    "    print(triangle[i][r][0])\n",
    "    if triangle[i][r][2]:\n",
    "        r += 1\n",
    "        "
   ]
  },
  {
   "cell_type": "markdown",
   "metadata": {},
   "source": [
    "# Counting Sundays\n",
    "# Problem 19 \n",
    "You are given the following information, but you may prefer to do some research for yourself.\n",
    "\n",
    "1 Jan 1900 was a Monday.\n",
    "Thirty days has September,\n",
    "April, June and November.\n",
    "All the rest have thirty-one,\n",
    "Saving February alone,\n",
    "Which has twenty-eight, rain or shine.\n",
    "And on leap years, twenty-nine.\n",
    "A leap year occurs on any year evenly divisible by 4, but not on a century unless it is divisible by 400.\n",
    "How many Sundays fell on the first of the month during the twentieth century (1 Jan 1901 to 31 Dec 2000)?"
   ]
  },
  {
   "cell_type": "code",
   "execution_count": 68,
   "metadata": {},
   "outputs": [
    {
     "name": "stdout",
     "output_type": "stream",
     "text": [
      "171\n"
     ]
    }
   ],
   "source": [
    "daymap = {0:'MON',1:'TUE',2:'WED',3:'THU',4:'FRI',5:'SAT',6:'SUN'}\n",
    "month = {0:'',1:'',2:'',3:'',4:'',5:'',6:'',7:'',8:'',9:'',10:'',10:''}\n",
    "\n",
    "def weekday(date):    \n",
    "    return daymap[date%7]\n",
    "\n",
    "def yearstart(year):\n",
    "    return (year - 1901) * 365 + len([i for i in range(1901,year) if i%4 == 0 and i%1000 != 0])\n",
    "\n",
    "def monthstart(year, month):\n",
    "    while month > 12:\n",
    "        year += 1\n",
    "        month -= 12\n",
    "    value = yearstart(year) \n",
    "    for i in range (1,month):\n",
    "        if i in [4,6,9,11]:\n",
    "            value += 30\n",
    "        elif i == 2:\n",
    "            if year%4 == 0 and year/1000 != 0:\n",
    "                value += 29\n",
    "            else:\n",
    "                value += 28\n",
    "        else:\n",
    "            value += 31\n",
    "\n",
    "    return value\n",
    " \n",
    "results = []    \n",
    "for i in range(1901,2000):\n",
    "    for j in range(1,13):\n",
    "        if weekday(monthstart(i,j)) == 'SUN':\n",
    "            results.append((i,j,1,weekday(monthstart(i,j)),monthstart(i,j+1)-monthstart(i,j)))\n",
    "            \n",
    "print(len(results))"
   ]
  },
  {
   "cell_type": "code",
   "execution_count": 70,
   "metadata": {},
   "outputs": [
    {
     "data": {
      "text/plain": [
       "[(1901, 4, 1, 'SUN', 30),\n",
       " (1901, 7, 1, 'SUN', 31),\n",
       " (1902, 9, 1, 'SUN', 30),\n",
       " (1902, 12, 1, 'SUN', 31),\n",
       " (1903, 6, 1, 'SUN', 30),\n",
       " (1904, 2, 1, 'SUN', 29),\n",
       " (1904, 8, 1, 'SUN', 31),\n",
       " (1905, 5, 1, 'SUN', 31),\n",
       " (1906, 1, 1, 'SUN', 31),\n",
       " (1906, 10, 1, 'SUN', 31),\n",
       " (1907, 4, 1, 'SUN', 30),\n",
       " (1907, 7, 1, 'SUN', 31),\n",
       " (1908, 6, 1, 'SUN', 30),\n",
       " (1909, 2, 1, 'SUN', 28),\n",
       " (1909, 3, 1, 'SUN', 31),\n",
       " (1909, 11, 1, 'SUN', 30),\n",
       " (1910, 8, 1, 'SUN', 31),\n",
       " (1911, 5, 1, 'SUN', 31),\n",
       " (1912, 1, 1, 'SUN', 31),\n",
       " (1912, 4, 1, 'SUN', 30),\n",
       " (1912, 7, 1, 'SUN', 31),\n",
       " (1913, 9, 1, 'SUN', 30),\n",
       " (1913, 12, 1, 'SUN', 31),\n",
       " (1914, 6, 1, 'SUN', 30),\n",
       " (1915, 2, 1, 'SUN', 28),\n",
       " (1915, 3, 1, 'SUN', 31),\n",
       " (1915, 11, 1, 'SUN', 30),\n",
       " (1916, 5, 1, 'SUN', 31),\n",
       " (1917, 1, 1, 'SUN', 31),\n",
       " (1917, 10, 1, 'SUN', 31),\n",
       " (1918, 4, 1, 'SUN', 30),\n",
       " (1918, 7, 1, 'SUN', 31),\n",
       " (1919, 9, 1, 'SUN', 30),\n",
       " (1919, 12, 1, 'SUN', 31),\n",
       " (1920, 3, 1, 'SUN', 31),\n",
       " (1920, 11, 1, 'SUN', 30),\n",
       " (1921, 8, 1, 'SUN', 31),\n",
       " (1922, 5, 1, 'SUN', 31),\n",
       " (1923, 1, 1, 'SUN', 31),\n",
       " (1923, 10, 1, 'SUN', 31),\n",
       " (1924, 9, 1, 'SUN', 30),\n",
       " (1924, 12, 1, 'SUN', 31),\n",
       " (1925, 6, 1, 'SUN', 30),\n",
       " (1926, 2, 1, 'SUN', 28),\n",
       " (1926, 3, 1, 'SUN', 31),\n",
       " (1926, 11, 1, 'SUN', 30),\n",
       " (1927, 8, 1, 'SUN', 31),\n",
       " (1928, 10, 1, 'SUN', 31),\n",
       " (1929, 4, 1, 'SUN', 30),\n",
       " (1929, 7, 1, 'SUN', 31),\n",
       " (1930, 9, 1, 'SUN', 30),\n",
       " (1930, 12, 1, 'SUN', 31),\n",
       " (1931, 6, 1, 'SUN', 30),\n",
       " (1932, 2, 1, 'SUN', 29),\n",
       " (1932, 8, 1, 'SUN', 31),\n",
       " (1933, 5, 1, 'SUN', 31),\n",
       " (1934, 1, 1, 'SUN', 31),\n",
       " (1934, 10, 1, 'SUN', 31),\n",
       " (1935, 4, 1, 'SUN', 30),\n",
       " (1935, 7, 1, 'SUN', 31),\n",
       " (1936, 6, 1, 'SUN', 30),\n",
       " (1937, 2, 1, 'SUN', 28),\n",
       " (1937, 3, 1, 'SUN', 31),\n",
       " (1937, 11, 1, 'SUN', 30),\n",
       " (1938, 8, 1, 'SUN', 31),\n",
       " (1939, 5, 1, 'SUN', 31),\n",
       " (1940, 1, 1, 'SUN', 31),\n",
       " (1940, 4, 1, 'SUN', 30),\n",
       " (1940, 7, 1, 'SUN', 31),\n",
       " (1941, 9, 1, 'SUN', 30),\n",
       " (1941, 12, 1, 'SUN', 31),\n",
       " (1942, 6, 1, 'SUN', 30),\n",
       " (1943, 2, 1, 'SUN', 28),\n",
       " (1943, 3, 1, 'SUN', 31),\n",
       " (1943, 11, 1, 'SUN', 30),\n",
       " (1944, 5, 1, 'SUN', 31),\n",
       " (1945, 1, 1, 'SUN', 31),\n",
       " (1945, 10, 1, 'SUN', 31),\n",
       " (1946, 4, 1, 'SUN', 30),\n",
       " (1946, 7, 1, 'SUN', 31),\n",
       " (1947, 9, 1, 'SUN', 30),\n",
       " (1947, 12, 1, 'SUN', 31),\n",
       " (1948, 3, 1, 'SUN', 31),\n",
       " (1948, 11, 1, 'SUN', 30),\n",
       " (1949, 8, 1, 'SUN', 31),\n",
       " (1950, 5, 1, 'SUN', 31),\n",
       " (1951, 1, 1, 'SUN', 31),\n",
       " (1951, 10, 1, 'SUN', 31),\n",
       " (1952, 9, 1, 'SUN', 30),\n",
       " (1952, 12, 1, 'SUN', 31),\n",
       " (1953, 6, 1, 'SUN', 30),\n",
       " (1954, 2, 1, 'SUN', 28),\n",
       " (1954, 3, 1, 'SUN', 31),\n",
       " (1954, 11, 1, 'SUN', 30),\n",
       " (1955, 8, 1, 'SUN', 31),\n",
       " (1956, 10, 1, 'SUN', 31),\n",
       " (1957, 4, 1, 'SUN', 30),\n",
       " (1957, 7, 1, 'SUN', 31),\n",
       " (1958, 9, 1, 'SUN', 30),\n",
       " (1958, 12, 1, 'SUN', 31),\n",
       " (1959, 6, 1, 'SUN', 30),\n",
       " (1960, 2, 1, 'SUN', 29),\n",
       " (1960, 8, 1, 'SUN', 31),\n",
       " (1961, 5, 1, 'SUN', 31),\n",
       " (1962, 1, 1, 'SUN', 31),\n",
       " (1962, 10, 1, 'SUN', 31),\n",
       " (1963, 4, 1, 'SUN', 30),\n",
       " (1963, 7, 1, 'SUN', 31),\n",
       " (1964, 6, 1, 'SUN', 30),\n",
       " (1965, 2, 1, 'SUN', 28),\n",
       " (1965, 3, 1, 'SUN', 31),\n",
       " (1965, 11, 1, 'SUN', 30),\n",
       " (1966, 8, 1, 'SUN', 31),\n",
       " (1967, 5, 1, 'SUN', 31),\n",
       " (1968, 1, 1, 'SUN', 31),\n",
       " (1968, 4, 1, 'SUN', 30),\n",
       " (1968, 7, 1, 'SUN', 31),\n",
       " (1969, 9, 1, 'SUN', 30),\n",
       " (1969, 12, 1, 'SUN', 31),\n",
       " (1970, 6, 1, 'SUN', 30),\n",
       " (1971, 2, 1, 'SUN', 28),\n",
       " (1971, 3, 1, 'SUN', 31),\n",
       " (1971, 11, 1, 'SUN', 30),\n",
       " (1972, 5, 1, 'SUN', 31),\n",
       " (1973, 1, 1, 'SUN', 31),\n",
       " (1973, 10, 1, 'SUN', 31),\n",
       " (1974, 4, 1, 'SUN', 30),\n",
       " (1974, 7, 1, 'SUN', 31),\n",
       " (1975, 9, 1, 'SUN', 30),\n",
       " (1975, 12, 1, 'SUN', 31),\n",
       " (1976, 3, 1, 'SUN', 31),\n",
       " (1976, 11, 1, 'SUN', 30),\n",
       " (1977, 8, 1, 'SUN', 31),\n",
       " (1978, 5, 1, 'SUN', 31),\n",
       " (1979, 1, 1, 'SUN', 31),\n",
       " (1979, 10, 1, 'SUN', 31),\n",
       " (1980, 9, 1, 'SUN', 30),\n",
       " (1980, 12, 1, 'SUN', 31),\n",
       " (1981, 6, 1, 'SUN', 30),\n",
       " (1982, 2, 1, 'SUN', 28),\n",
       " (1982, 3, 1, 'SUN', 31),\n",
       " (1982, 11, 1, 'SUN', 30),\n",
       " (1983, 8, 1, 'SUN', 31),\n",
       " (1984, 10, 1, 'SUN', 31),\n",
       " (1985, 4, 1, 'SUN', 30),\n",
       " (1985, 7, 1, 'SUN', 31),\n",
       " (1986, 9, 1, 'SUN', 30),\n",
       " (1986, 12, 1, 'SUN', 31),\n",
       " (1987, 6, 1, 'SUN', 30),\n",
       " (1988, 2, 1, 'SUN', 29),\n",
       " (1988, 8, 1, 'SUN', 31),\n",
       " (1989, 5, 1, 'SUN', 31),\n",
       " (1990, 1, 1, 'SUN', 31),\n",
       " (1990, 10, 1, 'SUN', 31),\n",
       " (1991, 4, 1, 'SUN', 30),\n",
       " (1991, 7, 1, 'SUN', 31),\n",
       " (1992, 6, 1, 'SUN', 30),\n",
       " (1993, 2, 1, 'SUN', 28),\n",
       " (1993, 3, 1, 'SUN', 31),\n",
       " (1993, 11, 1, 'SUN', 30),\n",
       " (1994, 8, 1, 'SUN', 31),\n",
       " (1995, 5, 1, 'SUN', 31),\n",
       " (1996, 1, 1, 'SUN', 31),\n",
       " (1996, 4, 1, 'SUN', 30),\n",
       " (1996, 7, 1, 'SUN', 31),\n",
       " (1997, 9, 1, 'SUN', 30),\n",
       " (1997, 12, 1, 'SUN', 31),\n",
       " (1998, 6, 1, 'SUN', 30),\n",
       " (1999, 2, 1, 'SUN', 28),\n",
       " (1999, 3, 1, 'SUN', 31),\n",
       " (1999, 11, 1, 'SUN', 30)]"
      ]
     },
     "execution_count": 70,
     "metadata": {},
     "output_type": "execute_result"
    }
   ],
   "source": [
    "results"
   ]
  },
  {
   "cell_type": "markdown",
   "metadata": {},
   "source": [
    "# Factorial digit sum\n",
    "## Problem 20 \n",
    "n! means n × (n − 1) × ... × 3 × 2 × 1\n",
    "\n",
    "For example, 10! = 10 × 9 × ... × 3 × 2 × 1 = 3628800,\n",
    "and the sum of the digits in the number 10! is 3 + 6 + 2 + 8 + 8 + 0 + 0 = 27.\n",
    "\n",
    "Find the sum of the digits in the number 100!"
   ]
  },
  {
   "cell_type": "code",
   "execution_count": 85,
   "metadata": {},
   "outputs": [
    {
     "name": "stdout",
     "output_type": "stream",
     "text": [
      "!100 is 93326215443944152681699238856266700490715968264381621468592963895217599993229915608941463976156518286253697920827223758251185210916864000000000000000000000000\n",
      "The sum of digits is 648\n"
     ]
    }
   ],
   "source": [
    "def factorial(number):\n",
    "    result = 1\n",
    "    for i in range(number,0,-1):\n",
    "        result = result * i\n",
    "    return result \n",
    "\n",
    "number = 100\n",
    "print('!{} is {}'.format(number,factorial(number)))\n",
    "print('The sum of digits is {}'.format(sum(map(int,[letter for letter in str(factorial(number))]))))"
   ]
  },
  {
   "cell_type": "markdown",
   "metadata": {},
   "source": [
    "# Amicable numbers\n",
    "## Problem 21 \n",
    "Let d(n) be defined as the sum of proper divisors of n (numbers less than n which divide evenly into n).\n",
    "If d(a) = b and d(b) = a, where a ≠ b, then a and b are an amicable pair and each of a and b are called amicable numbers.\n",
    "\n",
    "For example, the proper divisors of 220 are 1, 2, 4, 5, 10, 11, 20, 22, 44, 55 and 110; therefore d(220) = 284. The proper divisors of 284 are 1, 2, 4, 71 and 142; so d(284) = 220.\n",
    "\n",
    "Evaluate the sum of all the amicable numbers under 10000."
   ]
  },
  {
   "cell_type": "code",
   "execution_count": 221,
   "metadata": {},
   "outputs": [
    {
     "name": "stdout",
     "output_type": "stream",
     "text": [
      "There are 10 amicable numbers below 10000. These are :\n",
      "\n",
      "[284, 220, 1210, 1184, 2924, 2620, 5564, 5020, 6368, 6232]\n",
      "\n",
      "The sum of these is 31626.\n"
     ]
    }
   ],
   "source": [
    "divisors = {}\n",
    "d = {}\n",
    "\n",
    "for i in range(2,10000):\n",
    "    \n",
    "    \n",
    "    divisors.update({i:[1]})\n",
    "    \n",
    "    j = 2\n",
    "    while j < i ** 0.5:\n",
    "        if i%j == 0:\n",
    "            divisors[i].append(j)\n",
    "            if j**2 != i and j < i:\n",
    "                divisors[i].append(i//j)\n",
    "        j += 1\n",
    "    \n",
    "\n",
    "    #divisors[i].sort()\n",
    "    d.update({i:sum(divisors[i])})\n",
    "    \n",
    "\n",
    "    \n",
    "amicable = [k2 for k1, v1 in d.items() for k2, v2 in d.items() if k1==v2 and k2==v1 and k1!=v1]\n",
    "print('There are {} amicable numbers below {}. These are :\\n\\n{}\\n'.format(len(amicable),max(d.keys())+1,amicable))\n",
    "print('The sum of these is {}.'.format(sum(amicable)))"
   ]
  },
  {
   "cell_type": "markdown",
   "metadata": {},
   "source": [
    "# Names scores\n",
    "## Problem 22 \n",
    "Using names.txt (right click and 'Save Link/Target As...'), a 46K text file containing over five-thousand first names, begin by sorting it into alphabetical order. Then working out the alphabetical value for each name, multiply this value by its alphabetical position in the list to obtain a name score.\n",
    "\n",
    "For example, when the list is sorted into alphabetical order, COLIN, which is worth 3 + 15 + 12 + 9 + 14 = 53, is the 938th name in the list. So, COLIN would obtain a score of 938 × 53 = 49714.\n",
    "\n",
    "What is the total of all the name scores in the file?"
   ]
  },
  {
   "cell_type": "code",
   "execution_count": 250,
   "metadata": {},
   "outputs": [
    {
     "name": "stdout",
     "output_type": "stream",
     "text": [
      "There are 5163 names with a total value of 871198282.\n"
     ]
    }
   ],
   "source": [
    "inputfile = open('C:\\\\Users\\\\alexp\\\\Downloads\\\\Data Science\\\\Project Euler\\\\p022_names.txt','r')\n",
    "names = [name[1:-1] for name in inputfile.read().split(',')]\n",
    "inputfile.close()\n",
    "names.sort()\n",
    "\n",
    "names = {name: sum([ord(letter)-64 for letter in name])*(names.index(name)+1) for name in names}\n",
    "\n",
    "print('There are {} names with a total value of {}.'.format(len(names), sum(names.values())))\n"
   ]
  },
  {
   "cell_type": "markdown",
   "metadata": {},
   "source": [
    "# Non-abundant sums\n",
    "## Problem 23 \n",
    "A perfect number is a number for which the sum of its proper divisors is exactly equal to the number. For example, the sum of the proper divisors of 28 would be 1 + 2 + 4 + 7 + 14 = 28, which means that 28 is a perfect number.\n",
    "\n",
    "A number n is called deficient if the sum of its proper divisors is less than n and it is called abundant if this sum exceeds n.\n",
    "\n",
    "As 12 is the smallest abundant number, 1 + 2 + 3 + 4 + 6 = 16, the smallest number that can be written as the sum of two abundant numbers is 24. By mathematical analysis, it can be shown that all integers greater than 28123 can be written as the sum of two abundant numbers. However, this upper limit cannot be reduced any further by analysis even though it is known that the greatest number that cannot be expressed as the sum of two abundant numbers is less than this limit.\n",
    "\n",
    "Find the sum of all the positive integers which cannot be written as the sum of two abundant numbers."
   ]
  },
  {
   "cell_type": "code",
   "execution_count": 90,
   "metadata": {},
   "outputs": [
    {
     "name": "stdout",
     "output_type": "stream",
     "text": [
      "There are 1456 integers that cannot be expressed as the sum of two abundant numbers\n",
      "The sum of these is 4179871.\n"
     ]
    }
   ],
   "source": [
    "divisors = {}\n",
    "abundant = []\n",
    "\n",
    "maxcalc = 28123\n",
    "\n",
    "for i in range(2,maxcalc):\n",
    "    divisors.update({i:[1]})\n",
    "   \n",
    "    j = 2\n",
    "    while j <= i ** 0.5:\n",
    "        if i%j == 0:\n",
    "            divisors[i].append(j)\n",
    "            if j**2 != i and j < i:\n",
    "                divisors[i].append(i//j)\n",
    "        j += 1\n",
    "    divisors[i].sort()\n",
    "    \n",
    "    if sum(divisors[i]) > i:\n",
    "        abundant.append(i)\n",
    "\n",
    "        abundantset = set(abundant)\n",
    "\n",
    "def is_abundant_sum(n):\n",
    "    for i in abundant:\n",
    "        if i > n:  # assume \"abundants\" is ordered\n",
    "            return False\n",
    "        if (n - i) in abundantset:\n",
    "            return True\n",
    "    return False\n",
    "\n",
    "integer2a  = [x for x in range(1, maxcalc + 1) if is_abundant_sum(x)]    \n",
    "integernot2a = [x for x in range(1, maxcalc + 1) if x not in integer2a] \n",
    "\n",
    "print('There are {} integers that cannot be expressed as the sum of two abundant numbers'.format(len(integernot2a)))\n",
    "print('The sum of these is {}.'.format(sum(integernot2a)))"
   ]
  },
  {
   "cell_type": "markdown",
   "metadata": {},
   "source": [
    "# Lexicographic permutations\n",
    "## Problem 24 \n",
    "A permutation is an ordered arrangement of objects. For example, 3124 is one possible permutation of the digits 1, 2, 3 and 4. If all of the permutations are listed numerically or alphabetically, we call it lexicographic order. The lexicographic permutations of 0, 1 and 2 are:\n",
    "\n",
    "012   021   102   120   201   210\n",
    "\n",
    "What is the millionth lexicographic permutation of the digits 0, 1, 2, 3, 4, 5, 6, 7, 8 and 9?"
   ]
  },
  {
   "cell_type": "code",
   "execution_count": 93,
   "metadata": {},
   "outputs": [],
   "source": [
    "#options = [n for n in range(0,10)]\n"
   ]
  },
  {
   "cell_type": "code",
   "execution_count": 18,
   "metadata": {},
   "outputs": [
    {
     "name": "stdout",
     "output_type": "stream",
     "text": [
      "1000000\n",
      "2783915460\n"
     ]
    }
   ],
   "source": [
    "def recurse_permutations(fixeditems, floatingitems):\n",
    "    \n",
    "    for i in floatingitems:\n",
    "        if len(floatingitems) == 1:\n",
    "            permutations.append(fixeditems+[i])\n",
    "        else:\n",
    "            newfix = list(fixeditems)\n",
    "            newfix.append(i)\n",
    "            newfloat = list(floatingitems)\n",
    "            newfloat.pop(newfloat.index(i))\n",
    "        \n",
    "            recurse_permutations(list(newfix),list(newfloat))\n",
    "            if len(permutations) >= 1000000:\n",
    "                break\n",
    "        \n",
    "permutations = []\n",
    "recurse_permutations(list([]), list(range(0,10)))\n",
    "\n",
    "print(len(permutations))\n",
    "print(''.join(map(str,permutations[-1])))"
   ]
  },
  {
   "cell_type": "markdown",
   "metadata": {},
   "source": [
    "# 1000-digit Fibonacci number\n",
    "## Problem 25 \n",
    "The Fibonacci sequence is defined by the recurrence relation:\n",
    "\n",
    "Fn = Fn−1 + Fn−2, where F1 = 1 and F2 = 1.\n",
    "Hence the first 12 terms will be:\n",
    "\n",
    "F1 = 1\n",
    "F2 = 1\n",
    "F3 = 2\n",
    "F4 = 3\n",
    "F5 = 5\n",
    "F6 = 8\n",
    "F7 = 13\n",
    "F8 = 21\n",
    "F9 = 34\n",
    "F10 = 55\n",
    "F11 = 89\n",
    "F12 = 144\n",
    "The 12th term, F12, is the first term to contain three digits.\n",
    "\n",
    "What is the index of the first term in the Fibonacci sequence to contain 1000 digits?"
   ]
  },
  {
   "cell_type": "code",
   "execution_count": 253,
   "metadata": {},
   "outputs": [],
   "source": [
    "def arraysum(n1,n2):\n",
    "    if len(n1) < len(n2):\n",
    "        n1 = [0]*(len(n2) - len(n1))+n1\n",
    "    elif len(n2) < len(n1):\n",
    "        n2 = [0]*(len(n1) - len(n2))+n2\n",
    "\n",
    "    buffer = n1\n",
    "    for i in range(1,len(buffer)+1):\n",
    "\n",
    "        buffer[-i] = buffer[-i] + n2[-i]\n",
    "        if buffer[-i] > 9 and i == len(buffer):\n",
    "            buffer = [0] + buffer\n",
    "        if buffer[-i] > 9:     \n",
    "            buffer[-i-1] = buffer[-i-1] + int((buffer[-i]-buffer[-i]%10)/10)  \n",
    "            buffer[-i] = buffer[-i]%10\n",
    "            \n",
    "    while buffer[0] == 0:\n",
    "        buffer.pop(0)\n",
    "   \n",
    "    #print(''.join(map(str,buffer)))\n",
    "    return buffer"
   ]
  },
  {
   "cell_type": "code",
   "execution_count": 268,
   "metadata": {},
   "outputs": [
    {
     "name": "stdout",
     "output_type": "stream",
     "text": [
      "(2, [1], [1])\n",
      "F4782 is the first Fibonacci number to contain 1000 digits. It is :\n",
      "\n",
      "1070066266382758936764980584457396885083683896632151665013235203375314520604694040621889147582489792657804694888177591957484336466672569959512996030461262748092482186144069433051234774442750273781753087579391666192149259186759553966422837148943113074699503439547001985432609723067290192870526447243726117715821825548491120525013201478612965931381792235559657452039506137551467837543229119602129934048260706175397706847068202895486902666185435124521900369480641357447470911707619766945691070098024393439617474103736912503231365532164773697023167755051595173518460579954919410967778373229665796581646513903488154256310184224190259846088000110186255550245493937113651657039447629584714548523425950428582425306083544435428212611008992863795048006894330309773217834864543113205765659868456288616808718693835297350643986297640660000723562917905207051164077614812491885830945940566688339109350944456576357666151619317753792891661581327159616877487983821820492520348473874384736771934512787029218636250627816\n",
      "\n"
     ]
    }
   ],
   "source": [
    "#{N, fib[n], fib[n-1]}\n",
    "\n",
    "target = 1000\n",
    "\n",
    "fibcalc = (2,[1],[1])\n",
    "print(fibcalc)\n",
    "\n",
    "while len(fibcalc[1])<target:\n",
    "    fibcalc = (fibcalc[0]+1,arraysum(list(fibcalc[1]), list(fibcalc[2])), list(fibcalc[1]))\n",
    "    #print(fibcalc)     \n",
    "\n",
    "print('F{} is the first Fibonacci number to contain {} digits. It is :\\n\\n{}\\n'.format(fibcalc[0],target,''.join(map(str,fibcalc[1]))))"
   ]
  },
  {
   "cell_type": "markdown",
   "metadata": {},
   "source": [
    "# Reciprocal cycles\n",
    "## Problem 26 \n",
    "A unit fraction contains 1 in the numerator. The decimal representation of the unit fractions with denominators 2 to 10 are given:\n",
    "\n",
    "1/2\t= \t0.5\n",
    "1/3\t= \t0.(3)\n",
    "1/4\t= \t0.25\n",
    "1/5\t= \t0.2\n",
    "1/6\t= \t0.1(6)\n",
    "1/7\t= \t0.(142857)\n",
    "1/8\t= \t0.125\n",
    "1/9\t= \t0.(1)\n",
    "1/10\t= \t0.1\n",
    "Where 0.1(6) means 0.166666..., and has a 1-digit recurring cycle. It can be seen that 1/7 has a 6-digit recurring cycle.\n",
    "\n",
    "Find the value of d < 1000 for which 1/d contains the longest recurring cycle in its decimal fraction part."
   ]
  },
  {
   "cell_type": "code",
   "execution_count": 279,
   "metadata": {},
   "outputs": [],
   "source": [
    "def reciprocal_cycle(d):\n",
    "    output = [1//d]\n",
    "    remainder = [1%7]\n",
    "\n",
    "    while remainder[-1] != 0:\n",
    "        output.append(remainder[-1]*10//d)\n",
    "\n",
    "        if output[-1] == 0 and remainder[-1]*10%d == 0:\n",
    "            return (d, 0, output, [])\n",
    "        elif remainder[-1]*10%d in remainder:\n",
    "            length = len(remainder) - remainder.index(remainder[-1]*10%d)\n",
    "            return (d, length, output[0:-length], output[-length:])\n",
    "        else:\n",
    "            remainder.append(remainder[-1]*10%d)\n",
    "    return output  "
   ]
  },
  {
   "cell_type": "code",
   "execution_count": 280,
   "metadata": {},
   "outputs": [
    {
     "name": "stdout",
     "output_type": "stream",
     "text": [
      "982\n",
      "983\n"
     ]
    }
   ],
   "source": [
    "reciprocal_cycles = []\n",
    "\n",
    "longestcycle = 0\n",
    "longest_at_d = 1\n",
    "\n",
    "for i in range(2,1000):\n",
    "    reciprocal_cycles.append(reciprocal_cycle(i))\n",
    "    if reciprocal_cycles[-1][1] > longestcycle:\n",
    "        longestcycle = reciprocal_cycles[-1][1]\n",
    "        longest_at_d = i\n",
    "        \n",
    "print(longestcycle)\n",
    "print(longest_at_d)"
   ]
  },
  {
   "cell_type": "markdown",
   "metadata": {},
   "source": [
    "# Quadratic primes\n",
    "## Problem 27 \n",
    "Euler discovered the remarkable quadratic formula:\n",
    "\n",
    "n2+n+41\n",
    "It turns out that the formula will produce 40 primes for the consecutive integer values 0≤n≤39. However, when n=40,402+40+41=40(40+1)+41 is divisible by 41, and certainly when n=41,412+41+41 is clearly divisible by 41.\n",
    "\n",
    "The incredible formula n2−79n+1601 was discovered, which produces 80 primes for the consecutive values 0≤n≤79. The product of the coefficients, −79 and 1601, is −126479.\n",
    "\n",
    "Considering quadratics of the form:\n",
    "\n",
    "n2+an+b, where |a|<1000 and |b|≤1000\n",
    "\n",
    "where |n| is the modulus/absolute value of n\n",
    "e.g. |11|=11 and |−4|=4\n",
    "Find the product of the coefficients, a and b, for the quadratic expression that produces the maximum number of primes for consecutive values of n, starting with n=0."
   ]
  },
  {
   "cell_type": "markdown",
   "metadata": {},
   "source": [
    "# Number spiral diagonals\n",
    "## Problem 28 \n",
    "Starting with the number 1 and moving to the right in a clockwise direction a 5 by 5 spiral is formed as follows:\n",
    "\n",
    "21 22 23 24 25\n",
    "20  7  8  9 10\n",
    "19  6  1  2 11\n",
    "18  5  4  3 12\n",
    "17 16 15 14 13\n",
    "\n",
    "It can be verified that the sum of the numbers on the diagonals is 101.\n",
    "\n",
    "What is the sum of the numbers on the diagonals in a 1001 by 1001 spiral formed in the same way?"
   ]
  },
  {
   "cell_type": "markdown",
   "metadata": {},
   "source": [
    "# Distinct powers\n",
    "## Problem 29 \n",
    "Consider all integer combinations of ab for 2 ≤ a ≤ 5 and 2 ≤ b ≤ 5:\n",
    "\n",
    "22=4, 23=8, 24=16, 25=32\n",
    "32=9, 33=27, 34=81, 35=243\n",
    "42=16, 43=64, 44=256, 45=1024\n",
    "52=25, 53=125, 54=625, 55=3125\n",
    "If they are then placed in numerical order, with any repeats removed, we get the following sequence of 15 distinct terms:\n",
    "\n",
    "4, 8, 9, 16, 25, 27, 32, 64, 81, 125, 243, 256, 625, 1024, 3125\n",
    "\n",
    "How many distinct terms are in the sequence generated by ab for 2 ≤ a ≤ 100 and 2 ≤ b ≤ 100?"
   ]
  },
  {
   "cell_type": "markdown",
   "metadata": {},
   "source": [
    "# Digit fifth powers\n",
    "## Problem 30 \n",
    "Surprisingly there are only three numbers that can be written as the sum of fourth powers of their digits:\n",
    "\n",
    "1634 = 14 + 64 + 34 + 44\n",
    "8208 = 84 + 24 + 04 + 84\n",
    "9474 = 94 + 44 + 74 + 44\n",
    "As 1 = 14 is not a sum it is not included.\n",
    "\n",
    "The sum of these numbers is 1634 + 8208 + 9474 = 19316.\n",
    "\n",
    "Find the sum of all the numbers that can be written as the sum of fifth powers of their digits."
   ]
  },
  {
   "cell_type": "markdown",
   "metadata": {},
   "source": [
    "# Coin sums \n",
    "## Problem 31 \n",
    "In England the currency is made up of pound, £, and pence, p, and there are eight coins in general circulation:\n",
    "\n",
    "1p, 2p, 5p, 10p, 20p, 50p, £1 (100p) and £2 (200p). It is possible to make £2 in the following way:\n",
    "\n",
    "1×£1 + 1×50p + 2×20p + 1×5p + 1×2p + 3×1p How many different ways can £2 be made using any number of coins?"
   ]
  },
  {
   "cell_type": "code",
   "execution_count": 19,
   "metadata": {},
   "outputs": [
    {
     "name": "stdout",
     "output_type": "stream",
     "text": [
      "There are 73682 possible combnations that add to £2\n"
     ]
    }
   ],
   "source": [
    "coins = [200,100,50,20,10,5,2,1]\n",
    "target = 200\n",
    "combinations = []\n",
    "\n",
    "def coinproblem(inputset):\n",
    "    fixedvalue = 0\n",
    "    for n in range(0,len(inputset)):            \n",
    "        fixedvalue += inputset[n] * coins[n]\n",
    "        \n",
    "    if len(coins)-len(inputset) == 1:\n",
    "        if (target-fixedvalue)%coins[-1] == 0:\n",
    "            combinations.append(inputset + [(target-fixedvalue)//coins[-1]])\n",
    "    else:        \n",
    "        for j in range(0,((target-fixedvalue)//coins[len(inputset)]+1)):\n",
    "            coinproblem(list(inputset + [j]))\n",
    "\n",
    "coinproblem([])\n",
    "            \n",
    "for i in combinations:\n",
    "    fixedvalue = 0\n",
    "    for j in range(0,len(coins)):        \n",
    "        fixedvalue += i[j] * coins[j]\n",
    "    if fixedvalue != 200:\n",
    "        print('error')\n",
    "        \n",
    "print('There are {} possible combnations that add to £2'.format(len(combinations)))"
   ]
  },
  {
   "cell_type": "markdown",
   "metadata": {},
   "source": [
    "# Pandigital products\n",
    "## Problem 32 \n",
    "We shall say that an n-digit number is pandigital if it makes use of all the digits 1 to n exactly once; for example, the 5-digit number, 15234, is 1 through 5 pandigital.\n",
    "\n",
    "The product 7254 is unusual, as the identity, 39 × 186 = 7254, containing multiplicand, multiplier, and product is 1 through 9 pandigital.\n",
    "\n",
    "Find the sum of all products whose multiplicand/multiplier/product identity can be written as a 1 through 9 pandigital.\n",
    "\n",
    "HINT: Some products can be obtained in more than one way so be sure to only include it once in your sum."
   ]
  },
  {
   "cell_type": "markdown",
   "metadata": {},
   "source": [
    "# Digit cancelling fractions\n",
    "## Problem 33 \n",
    "The fraction 49/98 is a curious fraction, as an inexperienced mathematician in attempting to simplify it may incorrectly believe that 49/98 = 4/8, which is correct, is obtained by cancelling the 9s.\n",
    "\n",
    "We shall consider fractions like, 30/50 = 3/5, to be trivial examples.\n",
    "\n",
    "There are exactly four non-trivial examples of this type of fraction, less than one in value, and containing two digits in the numerator and denominator.\n",
    "\n",
    "If the product of these four fractions is given in its lowest common terms, find the value of the denominator."
   ]
  },
  {
   "cell_type": "markdown",
   "metadata": {},
   "source": [
    "# Digit factorials \n",
    "## Problem 34 \n",
    "145 is a curious number, as 1! + 4! + 5! = 1 + 24 + 120 = 145.\n",
    "\n",
    "Find the sum of all numbers which are equal to the sum of the factorial of their digits.\n",
    "\n",
    "Note: as 1! = 1 and 2! = 2 are not sums they are not included ANS=(145,40585)\n",
    "\n",
    "https://zero-factorial.com/whatis.html\n",
    "\n",
    "Simple answer: 0! (read \"Zero Factorial\") is defined to equal 1.\n",
    "\n",
    "Involved answer(s): There are several proofs that have been offered to support this common definition.\n",
    "\n",
    "Example (1) If n! is defined as the product of all positive integers from 1 to n, then: 1! = 11 = 1 2! = 12 = 2 3! = 12*3 = 6 4! = 123*4 = 24 ... n! = 123*...(n-2)(n-1)n and so on. Logically, n! can also be expressed n*(n-1)! .\n",
    "\n",
    "Therefore, at n=1, using n! = n(n-1)! 1! = 10! which simplifies to 1 = 0! Example (2) The idea of the factorial (in simple terms) is used to compute the number of permutations (combinations) of arranging a set of n numbers.\n",
    "\n",
    "n: Number of Permutations (n!): Visual example: 1 1 {1} 2 2 {1,2}, {2,1} 3 6 {1,2,3}, {1,3,2}, {2,1,3}, {2,3,1}, {3,1,2}, {3,2,1} 10 3,628,800 ummm, you get the idea... Therefore,\n",
    "\n",
    "0 1 { } It can be said that an empty set can only be ordered one way, so 0! = 1."
   ]
  },
  {
   "cell_type": "code",
   "execution_count": 9,
   "metadata": {},
   "outputs": [
    {
     "name": "stdout",
     "output_type": "stream",
     "text": [
      "{'0': 1, '1': 1, '2': 2, '3': 6, '4': 24, '5': 120, '6': 720, '7': 5040, '8': 40320, '9': 362880}\n"
     ]
    }
   ],
   "source": [
    "#Create dictionary for faster processing\n",
    "factorials = {'0':1} \n",
    "output = 1\n",
    "for i in range(1,10):\n",
    "    output *= i\n",
    "    factorials.update({str(i):output})\n",
    "    \n",
    "print(factorials)"
   ]
  },
  {
   "cell_type": "code",
   "execution_count": 11,
   "metadata": {},
   "outputs": [],
   "source": [
    "def factorial(num):\n",
    "    if num == 0: return 1  #I dont really get this but it is true...  \n",
    "    output = 1 \n",
    "    for i in range(1, num+1): \n",
    "        output*=i\n",
    "    return(output)\n",
    "\n",
    "def digit_factorial_sum(num):\n",
    "    output = 0\n",
    "    while num > 0:\n",
    "        output += factorials[str(num%10)]\n",
    "        num = num//10    \n",
    "    return output      \n"
   ]
  },
  {
   "cell_type": "code",
   "execution_count": 12,
   "metadata": {},
   "outputs": [
    {
     "name": "stdout",
     "output_type": "stream",
     "text": [
      "There are 2 digit factorials below 50000. The largest is 40585. The sum of these is 40730\n",
      "145,40585\n"
     ]
    }
   ],
   "source": [
    "limit = 50000\n",
    "\n",
    "digit_factorials = []\n",
    "for n in range(3,limit):\n",
    "    if n == digit_factorial_sum(n):\n",
    "        digit_factorials.append(n)\n",
    "    \n",
    "print('There are {} digit factorials below {}. The largest is {}. The sum of these is {}'.format(len(digit_factorials),limit,digit_factorials[-1],sum(digit_factorials)))  \n",
    "print(','.join(map(str,digit_factorials)))   "
   ]
  },
  {
   "cell_type": "markdown",
   "metadata": {},
   "source": [
    "# Circular primes \n",
    "## Problem 35 \n",
    "The number, 197, is called a circular prime because all rotations of the digits: 197, 971, and 719, are themselves prime.\n",
    "\n",
    "There are thirteen such primes below 100: 2, 3, 5, 7, 11, 13, 17, 31, 37, 71, 73, 79, and 97.\n",
    "\n",
    "How many circular primes are there below one million?"
   ]
  },
  {
   "cell_type": "code",
   "execution_count": 21,
   "metadata": {},
   "outputs": [
    {
     "name": "stdout",
     "output_type": "stream",
     "text": [
      "There are 55 circular primes below 1000000. The largest is 999331.\n",
      "2,3,5,7,11,13,17,31,37,71,73,79,97,113,131,197,199,311,337,373,719,733,919,971,991,1193,1931,3119,3779,7793,7937,9311,9377,11939,19391,19937,37199,39119,71993,91193,93719,93911,99371,193939,199933,319993,331999,391939,393919,919393,933199,939193,939391,993319,999331\n"
     ]
    }
   ],
   "source": [
    "#generates all rotations of digits in an integer\n",
    "def num_rotates(num):\n",
    "    output = []\n",
    "    for i in range(0,len(str(num))):\n",
    "        output.append(int(str(num)[i:]+str(num)[:i]))\n",
    "    return output\n",
    "\n",
    "limit = 10**6\n",
    "circular = []\n",
    "for n in [n for n in primes if n < limit]:\n",
    "    circularbool = None       \n",
    "    for p in num_rotates(n):\n",
    "        if not isprime(p):\n",
    "            circularbool = False\n",
    "            break\n",
    "    if circularbool != False:\n",
    "        circular.append(n)\n",
    "print('There are {} circular primes below {}. The largest is {}.'.format(len(circular),limit,circular[-1]))  \n",
    "print(','.join(map(str,circular)))"
   ]
  },
  {
   "cell_type": "markdown",
   "metadata": {},
   "source": [
    "# Double-base palindromes \n",
    "# Problem 36 \n",
    "The decimal number, 585 = 10010010012 (binary), is palindromic in both bases.\n",
    "\n",
    "Find the sum of all numbers, less than one million, which are palindromic in base 10 and base 2.\n",
    "\n",
    "(Please note that the palindromic number, in either base, may not include leading zeros.)m\n",
    "\n",
    "doubleBasePalindromes(1000) should return 1772. doubleBasePalindromes(50000) should return 105795. doubleBasePalindromes(500000) should return 286602. doubleBasePalindromes(1000000) should return 872187."
   ]
  },
  {
   "cell_type": "code",
   "execution_count": 13,
   "metadata": {},
   "outputs": [
    {
     "name": "stdout",
     "output_type": "stream",
     "text": [
      "There are 19 double palindromes below 1000000. The sum of these is 872187.\n"
     ]
    }
   ],
   "source": [
    "limit = 10**6\n",
    "double_palindromes = []\n",
    "for n in range(1,limit):\n",
    "    #print(n, str(n),str(n)[::-1],\"{0:b}\".format(n),\"{0:b}\".format(n)[::-1])\n",
    "    if str(n) == str(n)[::-1] and \"{0:b}\".format(n) == \"{0:b}\".format(n)[::-1]:\n",
    "        double_palindromes.append(n)\n",
    "    \n",
    "print('There are {} double palindromes below {}. The sum of these is {}.'.format(len(double_palindromes),limit,sum(double_palindromes)))\n"
   ]
  },
  {
   "cell_type": "markdown",
   "metadata": {},
   "source": [
    "# Truncatable primes \n",
    "## Problem 37 \n",
    "The number 3797 has an interesting property. Being prime itself, it is possible to continuously remove digits from left to right, and remain prime at each stage: 3797, 797, 97, and 7. Similarly we can work from right to left: 3797, 379, 37, and 3.\n",
    "\n",
    "Find the sum of the only eleven primes that are both truncatable from left to right and right to left.\n",
    "\n",
    "NOTE: 2, 3, 5, and 7 are not considered to be truncatable primes."
   ]
  },
  {
   "cell_type": "code",
   "execution_count": 22,
   "metadata": {},
   "outputs": [
    {
     "ename": "NameError",
     "evalue": "name 'primess' is not defined",
     "output_type": "error",
     "traceback": [
      "\u001b[1;31m---------------------------------------------------------------------------\u001b[0m",
      "\u001b[1;31mNameError\u001b[0m                                 Traceback (most recent call last)",
      "\u001b[1;32m<ipython-input-22-75c4f3e1fdaa>\u001b[0m in \u001b[0;36m<module>\u001b[1;34m\u001b[0m\n\u001b[0;32m      6\u001b[0m     \u001b[1;32mreturn\u001b[0m \u001b[1;32mTrue\u001b[0m\u001b[1;33m\u001b[0m\u001b[1;33m\u001b[0m\u001b[0m\n\u001b[0;32m      7\u001b[0m \u001b[1;33m\u001b[0m\u001b[0m\n\u001b[1;32m----> 8\u001b[1;33m \u001b[0mistrunctableprime\u001b[0m\u001b[1;33m(\u001b[0m\u001b[1;36m3797\u001b[0m\u001b[1;33m)\u001b[0m\u001b[1;33m\u001b[0m\u001b[1;33m\u001b[0m\u001b[0m\n\u001b[0m\u001b[0;32m      9\u001b[0m \u001b[1;33m\u001b[0m\u001b[0m\n\u001b[0;32m     10\u001b[0m \u001b[0mlimit\u001b[0m \u001b[1;33m=\u001b[0m \u001b[1;36m10\u001b[0m\u001b[1;33m**\u001b[0m\u001b[1;36m6\u001b[0m\u001b[1;33m\u001b[0m\u001b[1;33m\u001b[0m\u001b[0m\n",
      "\u001b[1;32m<ipython-input-22-75c4f3e1fdaa>\u001b[0m in \u001b[0;36mistrunctableprime\u001b[1;34m(num)\u001b[0m\n\u001b[0;32m      2\u001b[0m     \u001b[0mnumstr\u001b[0m \u001b[1;33m=\u001b[0m \u001b[0mstr\u001b[0m\u001b[1;33m(\u001b[0m\u001b[0mnum\u001b[0m\u001b[1;33m)\u001b[0m\u001b[1;33m\u001b[0m\u001b[1;33m\u001b[0m\u001b[0m\n\u001b[0;32m      3\u001b[0m     \u001b[1;32mfor\u001b[0m \u001b[0mi\u001b[0m \u001b[1;32min\u001b[0m \u001b[0mrange\u001b[0m\u001b[1;33m(\u001b[0m\u001b[1;36m0\u001b[0m\u001b[1;33m,\u001b[0m\u001b[0mlen\u001b[0m\u001b[1;33m(\u001b[0m\u001b[0mnumstr\u001b[0m\u001b[1;33m)\u001b[0m\u001b[1;33m)\u001b[0m\u001b[1;33m:\u001b[0m\u001b[1;33m\u001b[0m\u001b[1;33m\u001b[0m\u001b[0m\n\u001b[1;32m----> 4\u001b[1;33m         \u001b[1;32mif\u001b[0m \u001b[0misnotprime\u001b[0m\u001b[1;33m(\u001b[0m\u001b[0mint\u001b[0m\u001b[1;33m(\u001b[0m\u001b[0mnumstr\u001b[0m\u001b[1;33m[\u001b[0m\u001b[0mi\u001b[0m\u001b[1;33m:\u001b[0m\u001b[1;33m]\u001b[0m\u001b[1;33m)\u001b[0m\u001b[1;33m)\u001b[0m \u001b[1;33m:\u001b[0m \u001b[1;32mreturn\u001b[0m \u001b[1;32mFalse\u001b[0m\u001b[1;33m\u001b[0m\u001b[1;33m\u001b[0m\u001b[0m\n\u001b[0m\u001b[0;32m      5\u001b[0m         \u001b[1;32mif\u001b[0m \u001b[0misnotprime\u001b[0m\u001b[1;33m(\u001b[0m\u001b[0mint\u001b[0m\u001b[1;33m(\u001b[0m\u001b[0mnumstr\u001b[0m\u001b[1;33m[\u001b[0m\u001b[1;33m:\u001b[0m\u001b[0mi\u001b[0m\u001b[1;33m+\u001b[0m\u001b[1;36m1\u001b[0m\u001b[1;33m]\u001b[0m\u001b[1;33m)\u001b[0m\u001b[1;33m)\u001b[0m \u001b[1;33m:\u001b[0m \u001b[1;32mreturn\u001b[0m \u001b[1;32mFalse\u001b[0m\u001b[1;33m\u001b[0m\u001b[1;33m\u001b[0m\u001b[0m\n\u001b[0;32m      6\u001b[0m     \u001b[1;32mreturn\u001b[0m \u001b[1;32mTrue\u001b[0m\u001b[1;33m\u001b[0m\u001b[1;33m\u001b[0m\u001b[0m\n",
      "\u001b[1;32m<ipython-input-17-077510a9555d>\u001b[0m in \u001b[0;36misnotprime\u001b[1;34m(num)\u001b[0m\n\u001b[0;32m     41\u001b[0m \u001b[1;33m\u001b[0m\u001b[0m\n\u001b[0;32m     42\u001b[0m \u001b[1;32mdef\u001b[0m \u001b[0misnotprime\u001b[0m\u001b[1;33m(\u001b[0m\u001b[0mnum\u001b[0m\u001b[1;33m)\u001b[0m\u001b[1;33m:\u001b[0m\u001b[1;33m\u001b[0m\u001b[1;33m\u001b[0m\u001b[0m\n\u001b[1;32m---> 43\u001b[1;33m     \u001b[1;32mreturn\u001b[0m \u001b[0mnum\u001b[0m \u001b[1;32mnot\u001b[0m \u001b[1;32min\u001b[0m \u001b[0mprimess\u001b[0m\u001b[1;33m\u001b[0m\u001b[1;33m\u001b[0m\u001b[0m\n\u001b[0m",
      "\u001b[1;31mNameError\u001b[0m: name 'primess' is not defined"
     ]
    }
   ],
   "source": [
    "def istrunctableprime(num):\n",
    "    numstr = str(num)\n",
    "    for i in range(0,len(numstr)):\n",
    "        if isnotprime(int(numstr[i:])) : return False\n",
    "        if isnotprime(int(numstr[:i+1])) : return False                        \n",
    "    return True        \n",
    "\n",
    "istrunctableprime(3797)\n",
    "\n",
    "limit = 10**6\n",
    "trunctable = []\n",
    "for n in [n for n in primes if (n > 9) and (n < limit)]:\n",
    "    if istrunctableprime(n):\n",
    "        trunctable.append(n)\n",
    "\n",
    "print('There are {} trunctable primes below {}. The largest is {}.'.format(len(trunctable),limit,trunctable[-1]))  \n",
    "print(','.join(map(str,trunctable)))\n",
    "\n",
    "\n",
    "sum(trunctable)"
   ]
  },
  {
   "cell_type": "markdown",
   "metadata": {},
   "source": [
    "# Consecutive prime sum\n",
    "## Problem 50 \n",
    "The prime 41, can be written as the sum of six consecutive primes:\n",
    "\n",
    "41 = 2 + 3 + 5 + 7 + 11 + 13\n",
    "This is the longest sum of consecutive primes that adds to a prime below one-hundred.\n",
    "\n",
    "The longest sum of consecutive primes below one-thousand that adds to a prime, contains 21 terms, and is equal to 953.\n",
    "\n",
    "Which prime, below one-million, can be written as the sum of the most consecutive primes?"
   ]
  },
  {
   "cell_type": "code",
   "execution_count": 5,
   "metadata": {},
   "outputs": [],
   "source": [
    "#loadprimes - DO THIS IF YOU DO NOT HAVE TWO HOURS\n",
    "inputfile = open('C:\\\\Users\\\\alexp\\\\primes.csv','r')\n",
    "primes = list(map(int,inputfile.read().split(',')))\n",
    "inputfile.close()"
   ]
  },
  {
   "cell_type": "code",
   "execution_count": 7,
   "metadata": {},
   "outputs": [],
   "source": [
    "target = 100 \n",
    "\n",
    "consecutive_primes = []\n",
    "for i in range(0,len([i for i in primes if i < target])):\n",
    "    n = 1\n",
    "    while sum(primes[i:n+1])<target:\n",
    "        n+=1\n",
    "        if sum(primes[i:n]) in primes:\n",
    "            consecutive_primes.append((sum(primes[i:n]),primes[i:n]))\n",
    "  #  print('{} {} {} {}'.format(i, primes[i], n, sum(primes[i:n])))\n"
   ]
  },
  {
   "cell_type": "code",
   "execution_count": 8,
   "metadata": {},
   "outputs": [
    {
     "data": {
      "text/plain": [
       "[(5, [2, 3]),\n",
       " (17, [2, 3, 5, 7]),\n",
       " (41, [2, 3, 5, 7, 11, 13]),\n",
       " (3, [3]),\n",
       " (5, [5]),\n",
       " (23, [5, 7, 11]),\n",
       " (53, [5, 7, 11, 13, 17]),\n",
       " (7, [7]),\n",
       " (31, [7, 11, 13]),\n",
       " (67, [7, 11, 13, 17, 19]),\n",
       " (11, [11]),\n",
       " (41, [11, 13, 17]),\n",
       " (83, [11, 13, 17, 19, 23]),\n",
       " (13, [13]),\n",
       " (17, [17]),\n",
       " (59, [17, 19, 23]),\n",
       " (19, [19]),\n",
       " (71, [19, 23, 29]),\n",
       " (23, [23]),\n",
       " (83, [23, 29, 31]),\n",
       " (29, [29]),\n",
       " (97, [29, 31, 37]),\n",
       " (31, [31]),\n",
       " (37, [37]),\n",
       " (41, [41]),\n",
       " (43, [43]),\n",
       " (47, [47]),\n",
       " (53, [53]),\n",
       " (59, [59]),\n",
       " (61, [61]),\n",
       " (67, [67]),\n",
       " (71, [71]),\n",
       " (73, [73]),\n",
       " (79, [79]),\n",
       " (83, [83]),\n",
       " (89, [89]),\n",
       " (97, [97])]"
      ]
     },
     "execution_count": 8,
     "metadata": {},
     "output_type": "execute_result"
    }
   ],
   "source": [
    "consecutive_primes"
   ]
  },
  {
   "cell_type": "code",
   "execution_count": null,
   "metadata": {},
   "outputs": [],
   "source": []
  },
  {
   "cell_type": "markdown",
   "metadata": {},
   "source": [
    "# Maximum path sum II\n",
    "## Problem 67 \n",
    "By starting at the top of the triangle below and moving to adjacent numbers on the row below, the maximum total from top to bottom is 23.\n",
    "\n",
    "3\n",
    "7 4\n",
    "2 4 6\n",
    "8 5 9 3\n",
    "\n",
    "That is, 3 + 7 + 4 + 9 = 23.\n",
    "\n",
    "Find the maximum total from top to bottom in triangle.txt (right click and 'Save Link/Target As...'), a 15K text file containing a triangle with one-hundred rows.\n",
    "\n",
    "NOTE: This is a much more difficult version of Problem 18. It is not possible to try every route to solve this problem, as there are 299 altogether! If you could check one trillion (1012) routes every second it would take over twenty billion years to check them all. There is an efficient algorithm to solve it. ;o)"
   ]
  },
  {
   "cell_type": "code",
   "execution_count": 11,
   "metadata": {},
   "outputs": [
    {
     "name": "stdout",
     "output_type": "stream",
     "text": [
      "The highest path with a value of 7273 is :\n",
      "\n",
      "59\t73\t52\t53\t87\t57\t92\t81\t81\t79\t81\t32\t86\t82\t97\t55\t97\t36\t62\t65\t90\t93\t95\t54\t71\t77\t68\t71\t94\t8\t89\t54\t42\t90\t84\t91\t31\t71\t93\t94\t53\t69\t73\t99\t89\t47\t80\t96\t81\t52\t98\t38\t91\t78\t90\t70\t61\t17\t11\t75\t74\t55\t81\t87\t89\t99\t73\t88\t95\t68\t37\t87\t73\t77\t60\t82\t87\t64\t96\t65\t47\t94\t85\t51\t87\t65\t65\t66\t91\t83\t72\t24\t98\t89\t53\t82\t57\t99\t98\t\n"
     ]
    }
   ],
   "source": [
    "inputfile = open('C:\\\\Users\\\\alexp\\\\Downloads\\\\Data Science\\\\Project Euler\\\\p067_triangle.txt','r')\n",
    "triangle = [list(map(int,row.split())) for row in inputfile.read().split('\\n')]\n",
    "inputfile.close()\n",
    "triangle = [i for i in triangle if len(i) > 0]\n",
    "\n",
    "# (value, maxsum, right)\n",
    "\n",
    "for i in range(len(triangle)-1,-1,-1):\n",
    "    for j in range(len(triangle[i])):\n",
    "        if i == len(triangle)-1:\n",
    "            triangle[i][j] = (triangle[i][j],triangle[i][j],)\n",
    "        else:\n",
    "            if triangle[i+1][j][1] > triangle[i+1][j+1][1]:\n",
    "                triangle[i][j] = (triangle[i][j],triangle[i][j]+triangle[i+1][j][1],False)\n",
    "            else:\n",
    "                triangle[i][j] = (triangle[i][j],triangle[i][j]+triangle[i+1][j+1][1],True)                   \n",
    "        \n",
    "print('The highest path with a value of {} is :'.format(triangle[0][0][1]))\n",
    "print()\n",
    "\n",
    "r = 0\n",
    "bestpath = []\n",
    "for i in range(len(triangle)-1):\n",
    "    print(triangle[i][r][0], end='\\t')\n",
    "    if triangle[i][r][2]:\n",
    "        r += 1\n",
    "print()"
   ]
  }
 ],
 "metadata": {
  "kernelspec": {
   "display_name": "Python 3",
   "language": "python",
   "name": "python3"
  },
  "language_info": {
   "codemirror_mode": {
    "name": "ipython",
    "version": 3
   },
   "file_extension": ".py",
   "mimetype": "text/x-python",
   "name": "python",
   "nbconvert_exporter": "python",
   "pygments_lexer": "ipython3",
   "version": "3.7.1"
  }
 },
 "nbformat": 4,
 "nbformat_minor": 2
}
